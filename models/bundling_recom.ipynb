{
 "cells": [
  {
   "cell_type": "markdown",
   "metadata": {},
   "source": [
    "# Bundling Recommendations Product"
   ]
  },
  {
   "cell_type": "markdown",
   "metadata": {},
   "source": [
    "## Overview\n",
    "\n",
    "\n",
    "Customers are indeed vital for the survival and success of any business. By understanding their preferences and satisfying their needs, businesses can generate revenue and ensure profitability. One effective strategy to enhance customer satisfaction and drive sales is by providing personalized product bundling recommendations.\n",
    "\n",
    "To achieve this, we can leverage retail transactional data to analyze customer purchase patterns and identify items that are frequently bought together. By employing the Apriori Algorithm, a widely used technique in association rule mining, we can build a robust model that reveals the relationships between different products.\n",
    "\n",
    "By applying this model to an online retail transactional dataset, we can gain insights into the following questions:\n",
    "\n",
    "Which items are commonly purchased together?\n",
    "By identifying item associations, we can determine which products tend to be bought in conjunction. This information enables businesses to create attractive product bundles, offering customers a convenient and cost-effective solution by combining complementary items.\n",
    "\n",
    "Which items are frequently purchased together in specific countries?\n",
    "Different countries often have unique consumer preferences and cultural characteristics. By analyzing retail transactional data on a country-specific basis, we can discover item associations that are specific to particular regions. This allows businesses to tailor their product bundling recommendations according to local preferences, further enhancing customer satisfaction and driving sales.\n"
   ]
  },
  {
   "cell_type": "markdown",
   "metadata": {},
   "source": [
    "### Dataset"
   ]
  },
  {
   "cell_type": "markdown",
   "metadata": {},
   "source": [
    "* **PojokITCom_Product_Data.xlsx** - The file contains all transactions occurring between 01/12/2010 and 09/12/2011 for a UK-based and registered non-store online retail. In thecdataset, there are eight columns:\n",
    "\n",
    "    * InvoiceNo: Invoice number. Nominal, a 6-digit integral number uniquely assigned to each transaction. If this code starts with letter 'c', it indicates a cancellation.\n",
    "    * StockCode: Product (item) code. Nominal, a 5-digit integral number uniquely assigned to each distinct product.\n",
    "    * Description: Product (item) name. Nominal.\n",
    "    * Quantity: The quantities of each product (item) per transaction. Numeric.\n",
    "    * InvoiceDate: Invice Date and time. Numeric, the day and time when each transaction was generated.\n",
    "    * UnitPrice: Unit price. Numeric, Product price per unit in sterling.\n",
    "    * CustomerID: Customer number. Nominal, a 5-digit integral number uniquely assigned to each customer.\n",
    "    * Country: Country name. Nominal, the name of the country where each customer resides.\n",
    "    \n",
    "The dataset is avilable in [Tokopedia](https://www.tokopedia.com/pojokitcom) website. "
   ]
  },
  {
   "cell_type": "markdown",
   "metadata": {},
   "source": [
    "The project is organized as follows. Section 1 explores and visualize the data. Section 2 includes data preperation and Section 3 implements the solution. Finally, Section 4 presents the summary."
   ]
  },
  {
   "cell_type": "markdown",
   "metadata": {},
   "source": [
    "## 1. Data Understanding"
   ]
  },
  {
   "cell_type": "markdown",
   "metadata": {},
   "source": [
    "This step explores the dataset using different functions such as `head()`, `shape`, `describe()` and checks the null values using `isnull()`."
   ]
  },
  {
   "cell_type": "code",
   "execution_count": 1,
   "metadata": {
    "ExecuteTime": {
     "end_time": "2023-06-16T11:35:59.808970400Z",
     "start_time": "2023-06-16T11:35:59.568093500Z"
    }
   },
   "outputs": [],
   "source": [
    "# Import needed libraries\n",
    "\n",
    "import pandas as pd\n",
    "import numpy as np\n",
    "import matplotlib.pyplot as plt\n",
    "%matplotlib inline\n",
    "from sklearn.cluster import KMeans\n",
    "from sklearn.preprocessing import StandardScaler\n",
    "import seaborn as sns\n",
    "from mlxtend.frequent_patterns import apriori, association_rules\n",
    "import re\n",
    "\n",
    "pd.options.display.max_rows = None"
   ]
  },
  {
   "cell_type": "code",
   "execution_count": 2,
   "metadata": {
    "ExecuteTime": {
     "end_time": "2023-06-16T11:35:59.975962500Z",
     "start_time": "2023-06-16T11:35:59.578093Z"
    }
   },
   "outputs": [
    {
     "data": {
      "text/html": [
       "<div>\n",
       "<style scoped>\n",
       "    .dataframe tbody tr th:only-of-type {\n",
       "        vertical-align: middle;\n",
       "    }\n",
       "\n",
       "    .dataframe tbody tr th {\n",
       "        vertical-align: top;\n",
       "    }\n",
       "\n",
       "    .dataframe thead th {\n",
       "        text-align: right;\n",
       "    }\n",
       "</style>\n",
       "<table border=\"1\" class=\"dataframe\">\n",
       "  <thead>\n",
       "    <tr style=\"text-align: right;\">\n",
       "      <th></th>\n",
       "      <th>name</th>\n",
       "      <th>price</th>\n",
       "      <th>rating</th>\n",
       "      <th>sold</th>\n",
       "      <th>Quantity</th>\n",
       "      <th>category</th>\n",
       "      <th>stock_code</th>\n",
       "      <th>invoice</th>\n",
       "      <th>Description</th>\n",
       "      <th>country</th>\n",
       "    </tr>\n",
       "  </thead>\n",
       "  <tbody>\n",
       "    <tr>\n",
       "      <th>0</th>\n",
       "      <td>VGA Gigabyte AORUS GeForce RTX 4060 Ti ELITE 8G</td>\n",
       "      <td>Rp 8.999.900</td>\n",
       "      <td>NaN</td>\n",
       "      <td>NaN</td>\n",
       "      <td>54</td>\n",
       "      <td>Graphics Card</td>\n",
       "      <td>58645</td>\n",
       "      <td>7619</td>\n",
       "      <td>VGA Gigabyte AORUS GeForce RTX 4060 Ti ELITE 8G</td>\n",
       "      <td>indonesia</td>\n",
       "    </tr>\n",
       "    <tr>\n",
       "      <th>1</th>\n",
       "      <td>Promo bundle KRAGLIN SET ASRock A620M-HDV/M.2+...</td>\n",
       "      <td>Rp 5.489.000</td>\n",
       "      <td>NaN</td>\n",
       "      <td>NaN</td>\n",
       "      <td>56</td>\n",
       "      <td>Motherboard and CPU Bundle</td>\n",
       "      <td>62791a</td>\n",
       "      <td>8863</td>\n",
       "      <td>Promo bundle KRAGLIN SET ASRock A620M-HDV/M.2+...</td>\n",
       "      <td>indonesia</td>\n",
       "    </tr>\n",
       "    <tr>\n",
       "      <th>2</th>\n",
       "      <td>Promo Bundle LYLLA SET ASRock A620M-HDV/M.2 + ...</td>\n",
       "      <td>Rp 6.699.000</td>\n",
       "      <td>NaN</td>\n",
       "      <td>NaN</td>\n",
       "      <td>18</td>\n",
       "      <td>Motherboard and CPU Bundle</td>\n",
       "      <td>23044</td>\n",
       "      <td>6678</td>\n",
       "      <td>Promo Bundle LYLLA SET ASRock A620M-HDV/M.2 + ...</td>\n",
       "      <td>indonesia</td>\n",
       "    </tr>\n",
       "    <tr>\n",
       "      <th>3</th>\n",
       "      <td>Promo Bundle WARLOCK SET ASRock A620M-HDV/M.2+...</td>\n",
       "      <td>Rp 6.999.000</td>\n",
       "      <td>NaN</td>\n",
       "      <td>NaN</td>\n",
       "      <td>29</td>\n",
       "      <td>Motherboard and CPU Bundle</td>\n",
       "      <td>68386U</td>\n",
       "      <td>2474</td>\n",
       "      <td>Promo Bundle WARLOCK SET ASRock A620M-HDV/M.2+...</td>\n",
       "      <td>indonesia</td>\n",
       "    </tr>\n",
       "    <tr>\n",
       "      <th>4</th>\n",
       "      <td>Promo Bundle ROCKET SET ASRock A620M-HDV/M.2 +...</td>\n",
       "      <td>Rp 8.299.000</td>\n",
       "      <td>NaN</td>\n",
       "      <td>NaN</td>\n",
       "      <td>12</td>\n",
       "      <td>Motherboard and CPU Bundle</td>\n",
       "      <td>20483</td>\n",
       "      <td>8678</td>\n",
       "      <td>Promo Bundle ROCKET SET ASRock A620M-HDV/M.2 +...</td>\n",
       "      <td>indonesia</td>\n",
       "    </tr>\n",
       "  </tbody>\n",
       "</table>\n",
       "</div>"
      ],
      "text/plain": [
       "                                                name         price  rating  \\\n",
       "0    VGA Gigabyte AORUS GeForce RTX 4060 Ti ELITE 8G  Rp 8.999.900     NaN   \n",
       "1  Promo bundle KRAGLIN SET ASRock A620M-HDV/M.2+...  Rp 5.489.000     NaN   \n",
       "2  Promo Bundle LYLLA SET ASRock A620M-HDV/M.2 + ...  Rp 6.699.000     NaN   \n",
       "3  Promo Bundle WARLOCK SET ASRock A620M-HDV/M.2+...  Rp 6.999.000     NaN   \n",
       "4  Promo Bundle ROCKET SET ASRock A620M-HDV/M.2 +...  Rp 8.299.000     NaN   \n",
       "\n",
       "   sold  Quantity                    category stock_code  invoice  \\\n",
       "0   NaN        54               Graphics Card      58645     7619   \n",
       "1   NaN        56  Motherboard and CPU Bundle     62791a     8863   \n",
       "2   NaN        18  Motherboard and CPU Bundle      23044     6678   \n",
       "3   NaN        29  Motherboard and CPU Bundle     68386U     2474   \n",
       "4   NaN        12  Motherboard and CPU Bundle      20483     8678   \n",
       "\n",
       "                                         Description    country  \n",
       "0    VGA Gigabyte AORUS GeForce RTX 4060 Ti ELITE 8G  indonesia  \n",
       "1  Promo bundle KRAGLIN SET ASRock A620M-HDV/M.2+...  indonesia  \n",
       "2  Promo Bundle LYLLA SET ASRock A620M-HDV/M.2 + ...  indonesia  \n",
       "3  Promo Bundle WARLOCK SET ASRock A620M-HDV/M.2+...  indonesia  \n",
       "4  Promo Bundle ROCKET SET ASRock A620M-HDV/M.2 +...  indonesia  "
      ]
     },
     "execution_count": 2,
     "metadata": {},
     "output_type": "execute_result"
    }
   ],
   "source": [
    "# Read data in the excel file\n",
    "\n",
    "df = pd.read_excel('datasets/itcomsby.xlsx')\n",
    "df.head()"
   ]
  },
  {
   "cell_type": "code",
   "execution_count": 3,
   "metadata": {
    "ExecuteTime": {
     "end_time": "2023-06-16T11:35:59.995960900Z",
     "start_time": "2023-06-16T11:35:59.623091700Z"
    }
   },
   "outputs": [
    {
     "data": {
      "text/plain": [
       "(80, 10)"
      ]
     },
     "execution_count": 3,
     "metadata": {},
     "output_type": "execute_result"
    }
   ],
   "source": [
    "df.shape"
   ]
  },
  {
   "cell_type": "code",
   "execution_count": 4,
   "metadata": {
    "ExecuteTime": {
     "end_time": "2023-06-16T11:35:59.996960200Z",
     "start_time": "2023-06-16T11:35:59.639973900Z"
    }
   },
   "outputs": [
    {
     "name": "stdout",
     "output_type": "stream",
     "text": [
      "<class 'pandas.core.frame.DataFrame'>\n",
      "RangeIndex: 80 entries, 0 to 79\n",
      "Data columns (total 10 columns):\n",
      " #   Column       Non-Null Count  Dtype  \n",
      "---  ------       --------------  -----  \n",
      " 0   name         80 non-null     object \n",
      " 1   price        80 non-null     object \n",
      " 2   rating       12 non-null     float64\n",
      " 3   sold         21 non-null     float64\n",
      " 4   Quantity     80 non-null     int64  \n",
      " 5   category     80 non-null     object \n",
      " 6   stock_code   80 non-null     object \n",
      " 7   invoice      80 non-null     int64  \n",
      " 8   Description  80 non-null     object \n",
      " 9   country      80 non-null     object \n",
      "dtypes: float64(2), int64(2), object(6)\n",
      "memory usage: 6.4+ KB\n"
     ]
    }
   ],
   "source": [
    "df.info()"
   ]
  },
  {
   "cell_type": "code",
   "execution_count": 5,
   "metadata": {
    "ExecuteTime": {
     "end_time": "2023-06-16T11:36:00.016965300Z",
     "start_time": "2023-06-16T11:35:59.656963900Z"
    }
   },
   "outputs": [
    {
     "data": {
      "text/html": [
       "<div>\n",
       "<style scoped>\n",
       "    .dataframe tbody tr th:only-of-type {\n",
       "        vertical-align: middle;\n",
       "    }\n",
       "\n",
       "    .dataframe tbody tr th {\n",
       "        vertical-align: top;\n",
       "    }\n",
       "\n",
       "    .dataframe thead th {\n",
       "        text-align: right;\n",
       "    }\n",
       "</style>\n",
       "<table border=\"1\" class=\"dataframe\">\n",
       "  <thead>\n",
       "    <tr style=\"text-align: right;\">\n",
       "      <th></th>\n",
       "      <th>rating</th>\n",
       "      <th>sold</th>\n",
       "      <th>Quantity</th>\n",
       "      <th>invoice</th>\n",
       "    </tr>\n",
       "  </thead>\n",
       "  <tbody>\n",
       "    <tr>\n",
       "      <th>count</th>\n",
       "      <td>12.0</td>\n",
       "      <td>21.000000</td>\n",
       "      <td>80.000000</td>\n",
       "      <td>80.000000</td>\n",
       "    </tr>\n",
       "    <tr>\n",
       "      <th>mean</th>\n",
       "      <td>5.0</td>\n",
       "      <td>2.333333</td>\n",
       "      <td>48.075000</td>\n",
       "      <td>5453.087500</td>\n",
       "    </tr>\n",
       "    <tr>\n",
       "      <th>std</th>\n",
       "      <td>0.0</td>\n",
       "      <td>2.496664</td>\n",
       "      <td>27.539511</td>\n",
       "      <td>2624.239107</td>\n",
       "    </tr>\n",
       "    <tr>\n",
       "      <th>min</th>\n",
       "      <td>5.0</td>\n",
       "      <td>1.000000</td>\n",
       "      <td>3.000000</td>\n",
       "      <td>1209.000000</td>\n",
       "    </tr>\n",
       "    <tr>\n",
       "      <th>25%</th>\n",
       "      <td>5.0</td>\n",
       "      <td>1.000000</td>\n",
       "      <td>26.500000</td>\n",
       "      <td>3008.000000</td>\n",
       "    </tr>\n",
       "    <tr>\n",
       "      <th>50%</th>\n",
       "      <td>5.0</td>\n",
       "      <td>1.000000</td>\n",
       "      <td>47.000000</td>\n",
       "      <td>5684.000000</td>\n",
       "    </tr>\n",
       "    <tr>\n",
       "      <th>75%</th>\n",
       "      <td>5.0</td>\n",
       "      <td>3.000000</td>\n",
       "      <td>70.250000</td>\n",
       "      <td>7663.500000</td>\n",
       "    </tr>\n",
       "    <tr>\n",
       "      <th>max</th>\n",
       "      <td>5.0</td>\n",
       "      <td>11.000000</td>\n",
       "      <td>100.000000</td>\n",
       "      <td>9941.000000</td>\n",
       "    </tr>\n",
       "  </tbody>\n",
       "</table>\n",
       "</div>"
      ],
      "text/plain": [
       "       rating       sold    Quantity      invoice\n",
       "count    12.0  21.000000   80.000000    80.000000\n",
       "mean      5.0   2.333333   48.075000  5453.087500\n",
       "std       0.0   2.496664   27.539511  2624.239107\n",
       "min       5.0   1.000000    3.000000  1209.000000\n",
       "25%       5.0   1.000000   26.500000  3008.000000\n",
       "50%       5.0   1.000000   47.000000  5684.000000\n",
       "75%       5.0   3.000000   70.250000  7663.500000\n",
       "max       5.0  11.000000  100.000000  9941.000000"
      ]
     },
     "execution_count": 5,
     "metadata": {},
     "output_type": "execute_result"
    }
   ],
   "source": [
    "df.describe()"
   ]
  },
  {
   "cell_type": "code",
   "execution_count": 6,
   "metadata": {
    "ExecuteTime": {
     "end_time": "2023-06-16T11:36:00.016965300Z",
     "start_time": "2023-06-16T11:35:59.689965700Z"
    }
   },
   "outputs": [
    {
     "data": {
      "text/plain": [
       "name            0\n",
       "price           0\n",
       "rating         68\n",
       "sold           59\n",
       "Quantity        0\n",
       "category        0\n",
       "stock_code      0\n",
       "invoice         0\n",
       "Description     0\n",
       "country         0\n",
       "dtype: int64"
      ]
     },
     "execution_count": 6,
     "metadata": {},
     "output_type": "execute_result"
    }
   ],
   "source": [
    "# Check null values\n",
    "df.isnull().sum()"
   ]
  },
  {
   "cell_type": "code",
   "execution_count": 7,
   "metadata": {
    "ExecuteTime": {
     "end_time": "2023-06-16T11:36:00.056963400Z",
     "start_time": "2023-06-16T11:35:59.699967900Z"
    }
   },
   "outputs": [
    {
     "data": {
      "text/plain": [
       "name           80\n",
       "price          76\n",
       "rating          1\n",
       "sold            6\n",
       "Quantity       55\n",
       "category       15\n",
       "stock_code     80\n",
       "invoice        80\n",
       "Description    80\n",
       "country         1\n",
       "dtype: int64"
      ]
     },
     "execution_count": 7,
     "metadata": {},
     "output_type": "execute_result"
    }
   ],
   "source": [
    "# Check number of unique values\n",
    "df.nunique()"
   ]
  },
  {
   "cell_type": "code",
   "execution_count": 8,
   "metadata": {
    "ExecuteTime": {
     "end_time": "2023-06-16T11:36:00.057965500Z",
     "start_time": "2023-06-16T11:35:59.719966Z"
    },
    "scrolled": true
   },
   "outputs": [
    {
     "data": {
      "text/plain": [
       "stock_code\n",
       "11568           [SSD VenomRX VRX SUPER 128GB 2,5\" SATA III]\n",
       "12586     [Motherboard Power max H81 LGA 1150 USB 3.0 Sl...\n",
       "13334               [MSI PRO B650M-A WIFI Ryzen 7000 Combo]\n",
       "15469     [PSU MSI MPG A1000G PCIe 5 | PSU 1000W 80+ Gol...\n",
       "19507                  [SSD QPower 512GB SATA III 500MS/s ]\n",
       "20483     [Promo Bundle ROCKET SET ASRock A620M-HDV/M.2 ...\n",
       "20516           [VGA Msi GeForce RTX 4090 VENTUS 3X 24G OC]\n",
       "20517      [VGA Msi GeForce RTX 3060 Ti VENTUS 2X 8GD6X OC]\n",
       "22329     [Casing VenomRX GENJIRO Tempered Glass ATX Gam...\n",
       "23044     [Promo Bundle LYLLA SET ASRock A620M-HDV/M.2 +...\n",
       "24765              [ASROCK B650 Pro RS Ryzen 7 7700X Combo]\n",
       "26068     [Promo Bundle COSMO SET ASRock A620M-HDV/M.2 +...\n",
       "26795     [VGA Coloful iGame GeForce RTX 4090 Neptune OC...\n",
       "35211     [FAN AIGO Darkflash INFINITY 8 ARGB 5IN1 - 12C...\n",
       "35646     [Motherboard MSI MEG Z790 ACE ,E-ATX DDR5 | In...\n",
       "46626       [Casing VenomRX Vecna ATX 3Fan RGB Gaming Case]\n",
       "47534     [CORSAIR Vengeance RGB Pro 16GB DDR4 3600Mhz 2...\n",
       "51949     [Motherboard MSI MPG B650 CARBON WIFI ATX AM5 ...\n",
       "54034     [VGA Colorful iGame GeForce RTX 4080 16GB Vulc...\n",
       "54394                  [SSD QPower 256GB SATA III 500MS/s ]\n",
       "57975       [vGA PNY GeForce RTX 4070 Ti 12GB VERTO GDDR6X]\n",
       "58014     [GIGABYTE B760M DS3H DDR4 - Intel Motherboard ...\n",
       "58140           [SSD VenomRX VRX SUPER 256GB 2,5\" SATA III]\n",
       "58645     [VGA Gigabyte AORUS GeForce RTX 4060 Ti ELITE 8G]\n",
       "58820     [RAM Kingston Fury Beast RGB 32GB (16GB x2) DD...\n",
       "62341     [ASUS TUF GAMING VG249Q1A IPS 165Hz 1ms - GAMI...\n",
       "65096     [MSI PRO B760M-A WIFI DDR4 | Motherboard Intel...\n",
       "65979       [SAMSUNG SSD 990 PRO NVMe M.2 PCIe Gen 4.0 2TB]\n",
       "68058     [Casing VenomRX DAEMON Tempered Glass Mid-Towe...\n",
       "69177     [RAM Kingston Fury Beast RGB 16GB (8GB x2) DDR...\n",
       "71837       [Vga Gigabyte Radeon RX 6500 XT EAGLE 4G GDDR6]\n",
       "76461         [Casing GIGABYTE AORUS AC300 ATX Gaming Case]\n",
       "81375          [MSI MPG X670E CARBON WIFI Ryzen 7000 Combo]\n",
       "81394                  [SSD QPower 128GB SATA III 500MS/s ]\n",
       "88151     [VGA PALIT GeForce RTX 3070 Ti GamingPro 8GB G...\n",
       "88371                        [MSI CLUTCH GM08 Gaming Mouse]\n",
       "88863     [Motherboard GIGABYTE Z790M AORUS ELITE AX (In...\n",
       "92488     [Keyboard MSI Vigor GK20 US - Keyborard Gaming...\n",
       "96524                [MSI PRO X670-P WIFI Ryzen 7000 Combo]\n",
       "98949     [VGA ASRock AMD Radeon RX 6650 XT Challenger D...\n",
       "99346       [SAMSUNG SSD 990 PRO NVMe M.2 PCIe Gen 4.0 1TB]\n",
       "99522     [Power Supply ADATA XPG Pylon 650 Watt 80+ Bro...\n",
       "99652           [MSI MPG B650 CARBON WIFI Ryzen 7000 Combo]\n",
       "11331X    [Monitor Lenovo G34W-30 34\" Curved UltraWide 1...\n",
       "13768y    [VGA Msi GeForce RTX 4070 VENTUS 3X 12G OC GDD...\n",
       "15745I     [DeepCool FC 120 3in1 ARGB 120mm PWM Fan Cooler]\n",
       "17830i    [Casing VenomRX URRA ARGB - Tempered Glass m-A...\n",
       "20833x           [ASROCK B650 LiveMixer Ryzen 7 7700 Combo]\n",
       "23920L    [FAN AIGO Darkflash INFINITY 8 ARGB 5IN1 - 12C...\n",
       "25033e             [ASROCK X670E Taichi Ryzen 9 7900 Combo]\n",
       "25204h    [Xioami Mi 23.8'' Desktop Monitor 1C 60Hz 24 I...\n",
       "28211e         [MSI MAG B650M MORTAR WIFI Ryzen 7000 Combo]\n",
       "28724J    [Power Supply ADATA XPG Pylon 550 Watt 80+ Bro...\n",
       "34369c    [Motherboard AMD MSI A520M-A PRO (AM4, 520, DD...\n",
       "39683b    [MotherboardAsus TUF Gaming B450M Pro II [AM4,...\n",
       "42572Q     [Motherboard MSI PRO H510M-B Intel LGA1200 DDR4]\n",
       "42923P           [VGA Colorful GeForce RTX 4070 Ti NB EX-V]\n",
       "47754z    [VGA Msi GeForce RTX 4070 Ti GAMING X TRIO WHI...\n",
       "53089j    [MSI PRO B760M-A WIFI DDR5| Motherboard Intel ...\n",
       "56602y               [VGA Colorful GeForce GT 710 2GB DDR3]\n",
       "62141k    [Motherboard MSI PRO B650M-A WIFI mATX AM5 DDR...\n",
       "62791a    [Promo bundle KRAGLIN SET ASRock A620M-HDV/M.2...\n",
       "62998j    [VGA Msi GeForce RTX 4070 GAMING X TRIO 12G GD...\n",
       "64075L    [PC RAKITAN Intel Core i5 12400 | Ram 16GB | S...\n",
       "68386U    [Promo Bundle WARLOCK SET ASRock A620M-HDV/M.2...\n",
       "71032r    [MSI PRO B760M-P DDR4 | Motherboard Intel B760...\n",
       "72185A    [Motherboard Asus ProArt Z790-CREATOR WIFI LGA...\n",
       "74276b    [ID-COOLING IDCOOLING SE-902-SD CPU COOLER (IN...\n",
       "75239v    [Power Supply FSP Hydro G PRO ATX PCIe 5.0 100...\n",
       "77282b    [SDD Solidigm P41 Plus 1TB M.2 NVMe PCIe Gen 4...\n",
       "79479p    [AIGO DarkFlash DLM21 MESH Black - Tempered Gl...\n",
       "80508z    [SSD Samsung 980 PRO w/ Heatsink PCIe 4.0 NVMe...\n",
       "83358n        [MSI MAG B650 TOMAHAWK WIFI Ryzen 7000 Combo]\n",
       "83399a    [Casing VenomRX DAEMON Tempered Glass Mid-Towe...\n",
       "84512X               [Patriot P210 256GB 2.5\" SATA III SSD]\n",
       "87856K      [Monitor Lenovo L24i-30 23.8 Inch IPS FHD 75hz]\n",
       "88552R    [FAN AIGO Darkflash INFINITY 8 ARGB Singel - B...\n",
       "92622s                 [SSD VENOMRX VRX M2 2280 NVMe 256GB]\n",
       "94837p    [Motherboard MSI B560M PRO-E Intel LGA 1200 DDR4]\n",
       "95872v    [Motherboard GIGABYTE Z790 AORUS ELITE AX (Int...\n",
       "dtype: object"
      ]
     },
     "execution_count": 8,
     "metadata": {},
     "output_type": "execute_result"
    }
   ],
   "source": [
    "# Check each stock code has only one description\n",
    "df.groupby('stock_code').apply(lambda x: x['Description'].unique())"
   ]
  },
  {
   "cell_type": "code",
   "execution_count": 9,
   "metadata": {
    "ExecuteTime": {
     "end_time": "2023-06-16T11:36:00.057965500Z",
     "start_time": "2023-06-16T11:35:59.748970800Z"
    }
   },
   "outputs": [
    {
     "data": {
      "text/plain": [
       "country\n",
       "indonesia    80\n",
       "Name: invoice, dtype: int64"
      ]
     },
     "execution_count": 9,
     "metadata": {},
     "output_type": "execute_result"
    }
   ],
   "source": [
    "# Number of invoices for each country\n",
    "df.groupby(['country']).count() ['invoice']"
   ]
  },
  {
   "cell_type": "markdown",
   "metadata": {},
   "source": [
    "**Observations:**\n",
    "\n",
    "From the data, we can see that:\n",
    "* The minimum price and quantity are negative, and this is impossible.\n",
    "* There are null values in CustomerID and Description columns.\n",
    "* Some Stock Codes are not a 5-digit integral number.\n",
    "* Some Stock Codes has more than one item description.\n"
   ]
  },
  {
   "cell_type": "markdown",
   "metadata": {},
   "source": [
    "## 2. Data Preparation"
   ]
  },
  {
   "cell_type": "markdown",
   "metadata": {},
   "source": [
    "This step includes cleaning data and preparing it before using Apyori algorithm."
   ]
  },
  {
   "cell_type": "markdown",
   "metadata": {},
   "source": [
    "### 2.1. Missing Data"
   ]
  },
  {
   "cell_type": "markdown",
   "metadata": {},
   "source": [
    "As we can see from the previous section, there are null data. So, I will remove the rows that contain null values.  "
   ]
  },
  {
   "cell_type": "code",
   "execution_count": 10,
   "metadata": {
    "ExecuteTime": {
     "end_time": "2023-06-16T11:36:00.058965600Z",
     "start_time": "2023-06-16T11:35:59.770966Z"
    }
   },
   "outputs": [
    {
     "data": {
      "text/plain": [
       "name           0\n",
       "price          0\n",
       "rating         0\n",
       "sold           0\n",
       "Quantity       0\n",
       "category       0\n",
       "stock_code     0\n",
       "invoice        0\n",
       "Description    0\n",
       "country        0\n",
       "dtype: int64"
      ]
     },
     "execution_count": 10,
     "metadata": {},
     "output_type": "execute_result"
    }
   ],
   "source": [
    "# Delete rows with null CustomerID\n",
    "clean_df = df.dropna(subset=['rating', 'sold'])\n",
    "\n",
    "# Check null values\n",
    "clean_df.isnull().sum()"
   ]
  },
  {
   "cell_type": "markdown",
   "metadata": {},
   "source": [
    "### 2.2. Dealing with Inconsistent Data"
   ]
  },
  {
   "cell_type": "markdown",
   "metadata": {},
   "source": [
    "This section includes:\n",
    "* Removing the price and quantity that are less than or equal to 0. \n",
    "* Removing inconsistent Stock code.\n",
    "* Keeping only one description for each Stock codes."
   ]
  },
  {
   "cell_type": "code",
   "execution_count": 11,
   "metadata": {
    "ExecuteTime": {
     "end_time": "2023-06-16T11:36:00.058965600Z",
     "start_time": "2023-06-16T11:35:59.782969200Z"
    }
   },
   "outputs": [],
   "source": [
    "# Removing the price and quantity that are less than or equal to 0\n",
    "clean_df = clean_df[(clean_df.Quantity >= 0)]"
   ]
  },
  {
   "cell_type": "code",
   "execution_count": 12,
   "metadata": {
    "ExecuteTime": {
     "end_time": "2023-06-16T11:36:00.059962500Z",
     "start_time": "2023-06-16T11:35:59.797974Z"
    }
   },
   "outputs": [
    {
     "data": {
      "text/html": [
       "<div>\n",
       "<style scoped>\n",
       "    .dataframe tbody tr th:only-of-type {\n",
       "        vertical-align: middle;\n",
       "    }\n",
       "\n",
       "    .dataframe tbody tr th {\n",
       "        vertical-align: top;\n",
       "    }\n",
       "\n",
       "    .dataframe thead th {\n",
       "        text-align: right;\n",
       "    }\n",
       "</style>\n",
       "<table border=\"1\" class=\"dataframe\">\n",
       "  <thead>\n",
       "    <tr style=\"text-align: right;\">\n",
       "      <th></th>\n",
       "      <th>rating</th>\n",
       "      <th>sold</th>\n",
       "      <th>Quantity</th>\n",
       "      <th>invoice</th>\n",
       "    </tr>\n",
       "  </thead>\n",
       "  <tbody>\n",
       "    <tr>\n",
       "      <th>count</th>\n",
       "      <td>12.0</td>\n",
       "      <td>12.000000</td>\n",
       "      <td>12.000000</td>\n",
       "      <td>12.000000</td>\n",
       "    </tr>\n",
       "    <tr>\n",
       "      <th>mean</th>\n",
       "      <td>5.0</td>\n",
       "      <td>2.833333</td>\n",
       "      <td>51.416667</td>\n",
       "      <td>5403.416667</td>\n",
       "    </tr>\n",
       "    <tr>\n",
       "      <th>std</th>\n",
       "      <td>0.0</td>\n",
       "      <td>3.040136</td>\n",
       "      <td>27.786388</td>\n",
       "      <td>2602.779370</td>\n",
       "    </tr>\n",
       "    <tr>\n",
       "      <th>min</th>\n",
       "      <td>5.0</td>\n",
       "      <td>1.000000</td>\n",
       "      <td>8.000000</td>\n",
       "      <td>1687.000000</td>\n",
       "    </tr>\n",
       "    <tr>\n",
       "      <th>25%</th>\n",
       "      <td>5.0</td>\n",
       "      <td>1.000000</td>\n",
       "      <td>31.500000</td>\n",
       "      <td>3527.500000</td>\n",
       "    </tr>\n",
       "    <tr>\n",
       "      <th>50%</th>\n",
       "      <td>5.0</td>\n",
       "      <td>1.000000</td>\n",
       "      <td>51.000000</td>\n",
       "      <td>5298.000000</td>\n",
       "    </tr>\n",
       "    <tr>\n",
       "      <th>75%</th>\n",
       "      <td>5.0</td>\n",
       "      <td>3.250000</td>\n",
       "      <td>75.250000</td>\n",
       "      <td>7817.500000</td>\n",
       "    </tr>\n",
       "    <tr>\n",
       "      <th>max</th>\n",
       "      <td>5.0</td>\n",
       "      <td>11.000000</td>\n",
       "      <td>88.000000</td>\n",
       "      <td>9099.000000</td>\n",
       "    </tr>\n",
       "  </tbody>\n",
       "</table>\n",
       "</div>"
      ],
      "text/plain": [
       "       rating       sold   Quantity      invoice\n",
       "count    12.0  12.000000  12.000000    12.000000\n",
       "mean      5.0   2.833333  51.416667  5403.416667\n",
       "std       0.0   3.040136  27.786388  2602.779370\n",
       "min       5.0   1.000000   8.000000  1687.000000\n",
       "25%       5.0   1.000000  31.500000  3527.500000\n",
       "50%       5.0   1.000000  51.000000  5298.000000\n",
       "75%       5.0   3.250000  75.250000  7817.500000\n",
       "max       5.0  11.000000  88.000000  9099.000000"
      ]
     },
     "execution_count": 12,
     "metadata": {},
     "output_type": "execute_result"
    }
   ],
   "source": [
    "clean_df.describe()"
   ]
  },
  {
   "cell_type": "code",
   "execution_count": 13,
   "metadata": {
    "ExecuteTime": {
     "end_time": "2023-06-16T11:36:00.059962500Z",
     "start_time": "2023-06-16T11:35:59.831968700Z"
    }
   },
   "outputs": [
    {
     "data": {
      "text/plain": [
       "0"
      ]
     },
     "execution_count": 13,
     "metadata": {},
     "output_type": "execute_result"
    }
   ],
   "source": [
    "# Check the number of invoices that starts with letter 'c', cancellation.\n",
    "clean_df['invoice'] = clean_df['invoice'].astype('str')\n",
    "clean_df[clean_df['invoice'].str.contains(\"c\")].shape[0]"
   ]
  },
  {
   "cell_type": "code",
   "execution_count": 14,
   "metadata": {
    "ExecuteTime": {
     "end_time": "2023-06-16T11:36:00.059962500Z",
     "start_time": "2023-06-16T11:35:59.849967800Z"
    }
   },
   "outputs": [
    {
     "name": "stderr",
     "output_type": "stream",
     "text": [
      "<>:14: DeprecationWarning: invalid escape sequence '\\d'\n",
      "<>:15: DeprecationWarning: invalid escape sequence '\\d'\n",
      "<>:14: DeprecationWarning: invalid escape sequence '\\d'\n",
      "<>:15: DeprecationWarning: invalid escape sequence '\\d'\n",
      "C:\\Users\\lenovo\\AppData\\Local\\Temp\\ipykernel_6208\\2289143970.py:14: DeprecationWarning: invalid escape sequence '\\d'\n",
      "  x = re.search(\"^\\d{5}$\", input)\n",
      "C:\\Users\\lenovo\\AppData\\Local\\Temp\\ipykernel_6208\\2289143970.py:15: DeprecationWarning: invalid escape sequence '\\d'\n",
      "  y = re.search(\"^\\d{5}[a-zA-Z]{1}$\", input)\n"
     ]
    },
    {
     "data": {
      "text/html": [
       "<div>\n",
       "<style scoped>\n",
       "    .dataframe tbody tr th:only-of-type {\n",
       "        vertical-align: middle;\n",
       "    }\n",
       "\n",
       "    .dataframe tbody tr th {\n",
       "        vertical-align: top;\n",
       "    }\n",
       "\n",
       "    .dataframe thead th {\n",
       "        text-align: right;\n",
       "    }\n",
       "</style>\n",
       "<table border=\"1\" class=\"dataframe\">\n",
       "  <thead>\n",
       "    <tr style=\"text-align: right;\">\n",
       "      <th></th>\n",
       "      <th>name</th>\n",
       "      <th>price</th>\n",
       "      <th>rating</th>\n",
       "      <th>sold</th>\n",
       "      <th>Quantity</th>\n",
       "      <th>category</th>\n",
       "      <th>stock_code</th>\n",
       "      <th>invoice</th>\n",
       "      <th>Description</th>\n",
       "      <th>country</th>\n",
       "    </tr>\n",
       "  </thead>\n",
       "  <tbody>\n",
       "    <tr>\n",
       "      <th>17</th>\n",
       "      <td>VGA ASRock AMD Radeon RX 6650 XT Challenger D ...</td>\n",
       "      <td>Rp 4.950.000</td>\n",
       "      <td>5.0</td>\n",
       "      <td>1.0</td>\n",
       "      <td>88</td>\n",
       "      <td>Graphics Card</td>\n",
       "      <td>98949</td>\n",
       "      <td>5632</td>\n",
       "      <td>VGA ASRock AMD Radeon RX 6650 XT Challenger D ...</td>\n",
       "      <td>indonesia</td>\n",
       "    </tr>\n",
       "    <tr>\n",
       "      <th>20</th>\n",
       "      <td>Casing VenomRX GENJIRO Tempered Glass ATX Gami...</td>\n",
       "      <td>Rp 515.000</td>\n",
       "      <td>5.0</td>\n",
       "      <td>3.0</td>\n",
       "      <td>32</td>\n",
       "      <td>Casing</td>\n",
       "      <td>22329</td>\n",
       "      <td>6490</td>\n",
       "      <td>Casing VenomRX GENJIRO Tempered Glass ATX Gami...</td>\n",
       "      <td>indonesia</td>\n",
       "    </tr>\n",
       "    <tr>\n",
       "      <th>26</th>\n",
       "      <td>Casing VenomRX Vecna ATX 3Fan RGB Gaming Case</td>\n",
       "      <td>Rp 490.000</td>\n",
       "      <td>5.0</td>\n",
       "      <td>1.0</td>\n",
       "      <td>56</td>\n",
       "      <td>Casing</td>\n",
       "      <td>46626</td>\n",
       "      <td>1720</td>\n",
       "      <td>Casing VenomRX Vecna ATX 3Fan RGB Gaming Case</td>\n",
       "      <td>indonesia</td>\n",
       "    </tr>\n",
       "    <tr>\n",
       "      <th>36</th>\n",
       "      <td>MSI PRO B760M-P DDR4 | Motherboard Intel B760 ...</td>\n",
       "      <td>Rp 1.799.999</td>\n",
       "      <td>5.0</td>\n",
       "      <td>6.0</td>\n",
       "      <td>83</td>\n",
       "      <td>Motherboard</td>\n",
       "      <td>71032r</td>\n",
       "      <td>4964</td>\n",
       "      <td>MSI PRO B760M-P DDR4 | Motherboard Intel B760 ...</td>\n",
       "      <td>indonesia</td>\n",
       "    </tr>\n",
       "    <tr>\n",
       "      <th>37</th>\n",
       "      <td>PC RAKITAN Intel Core i5 12400 | Ram 16GB | SS...</td>\n",
       "      <td>Rp 18.785.000</td>\n",
       "      <td>5.0</td>\n",
       "      <td>1.0</td>\n",
       "      <td>82</td>\n",
       "      <td>PC Build</td>\n",
       "      <td>64075L</td>\n",
       "      <td>7698</td>\n",
       "      <td>PC RAKITAN Intel Core i5 12400 | Ram 16GB | SS...</td>\n",
       "      <td>indonesia</td>\n",
       "    </tr>\n",
       "  </tbody>\n",
       "</table>\n",
       "</div>"
      ],
      "text/plain": [
       "                                                 name          price  rating  \\\n",
       "17  VGA ASRock AMD Radeon RX 6650 XT Challenger D ...   Rp 4.950.000     5.0   \n",
       "20  Casing VenomRX GENJIRO Tempered Glass ATX Gami...     Rp 515.000     5.0   \n",
       "26      Casing VenomRX Vecna ATX 3Fan RGB Gaming Case     Rp 490.000     5.0   \n",
       "36  MSI PRO B760M-P DDR4 | Motherboard Intel B760 ...   Rp 1.799.999     5.0   \n",
       "37  PC RAKITAN Intel Core i5 12400 | Ram 16GB | SS...  Rp 18.785.000     5.0   \n",
       "\n",
       "    sold  Quantity       category stock_code invoice  \\\n",
       "17   1.0        88  Graphics Card      98949    5632   \n",
       "20   3.0        32         Casing      22329    6490   \n",
       "26   1.0        56         Casing      46626    1720   \n",
       "36   6.0        83    Motherboard     71032r    4964   \n",
       "37   1.0        82       PC Build     64075L    7698   \n",
       "\n",
       "                                          Description    country  \n",
       "17  VGA ASRock AMD Radeon RX 6650 XT Challenger D ...  indonesia  \n",
       "20  Casing VenomRX GENJIRO Tempered Glass ATX Gami...  indonesia  \n",
       "26      Casing VenomRX Vecna ATX 3Fan RGB Gaming Case  indonesia  \n",
       "36  MSI PRO B760M-P DDR4 | Motherboard Intel B760 ...  indonesia  \n",
       "37  PC RAKITAN Intel Core i5 12400 | Ram 16GB | SS...  indonesia  "
      ]
     },
     "execution_count": 14,
     "metadata": {},
     "output_type": "execute_result"
    }
   ],
   "source": [
    "# Check the stock code\n",
    "\n",
    "def has_right_scode(input):\n",
    "    \n",
    "    \"\"\"\n",
    "    Function: check the if the stock code is wirtten in a right way,\n",
    "            The function check if the code contains 5-digit number or 5-digit number with a letter.\n",
    "    Args:\n",
    "      input(String): Stock code\n",
    "    Return:\n",
    "      Boolean: True or False\n",
    "    \"\"\"\n",
    "    \n",
    "    x = re.search(\"^\\d{5}$\", input)\n",
    "    y = re.search(\"^\\d{5}[a-zA-Z]{1}$\", input)\n",
    "    if (x or y):\n",
    "        return True\n",
    "    else:\n",
    "        return False\n",
    "\n",
    "    \n",
    "clean_df['stock_code'] = clean_df['stock_code'].astype('str')\n",
    "clean_df = clean_df[clean_df['stock_code'].apply(has_right_scode) == True]\n",
    "clean_df.head()"
   ]
  },
  {
   "cell_type": "code",
   "execution_count": 15,
   "metadata": {
    "ExecuteTime": {
     "end_time": "2023-06-16T11:36:00.059962500Z",
     "start_time": "2023-06-16T11:35:59.879964600Z"
    },
    "scrolled": true
   },
   "outputs": [
    {
     "data": {
      "text/html": [
       "<div>\n",
       "<style scoped>\n",
       "    .dataframe tbody tr th:only-of-type {\n",
       "        vertical-align: middle;\n",
       "    }\n",
       "\n",
       "    .dataframe tbody tr th {\n",
       "        vertical-align: top;\n",
       "    }\n",
       "\n",
       "    .dataframe thead th {\n",
       "        text-align: right;\n",
       "    }\n",
       "</style>\n",
       "<table border=\"1\" class=\"dataframe\">\n",
       "  <thead>\n",
       "    <tr style=\"text-align: right;\">\n",
       "      <th></th>\n",
       "      <th>stock_code</th>\n",
       "      <th>Description2</th>\n",
       "    </tr>\n",
       "  </thead>\n",
       "  <tbody>\n",
       "  </tbody>\n",
       "</table>\n",
       "</div>"
      ],
      "text/plain": [
       "Empty DataFrame\n",
       "Columns: [stock_code, Description2]\n",
       "Index: []"
      ]
     },
     "execution_count": 15,
     "metadata": {},
     "output_type": "execute_result"
    }
   ],
   "source": [
    "# One discription for each stock code\n",
    "\n",
    "# Put all Descriptions of each StockCode in a list \n",
    "df_itms = pd.DataFrame(clean_df.groupby('stock_code').apply(lambda x: x['Description'].unique())).reset_index()\n",
    "df_itms.rename(columns = { 0: 'Description2'}, inplace = True)\n",
    "\n",
    "# StockCode that have more than one Description\n",
    "df_itms[df_itms['Description2'].str.len() != 1]"
   ]
  },
  {
   "cell_type": "markdown",
   "metadata": {},
   "source": [
    "As we can see, the items in the each Description list are the same item but they are written in different ways. So, I will keep only one describtion."
   ]
  },
  {
   "cell_type": "code",
   "execution_count": 16,
   "metadata": {
    "ExecuteTime": {
     "end_time": "2023-06-16T11:36:00.059962500Z",
     "start_time": "2023-06-16T11:35:59.909965400Z"
    },
    "scrolled": true
   },
   "outputs": [
    {
     "data": {
      "text/html": [
       "<div>\n",
       "<style scoped>\n",
       "    .dataframe tbody tr th:only-of-type {\n",
       "        vertical-align: middle;\n",
       "    }\n",
       "\n",
       "    .dataframe tbody tr th {\n",
       "        vertical-align: top;\n",
       "    }\n",
       "\n",
       "    .dataframe thead th {\n",
       "        text-align: right;\n",
       "    }\n",
       "</style>\n",
       "<table border=\"1\" class=\"dataframe\">\n",
       "  <thead>\n",
       "    <tr style=\"text-align: right;\">\n",
       "      <th></th>\n",
       "      <th>stock_code</th>\n",
       "      <th>Description2</th>\n",
       "    </tr>\n",
       "  </thead>\n",
       "  <tbody>\n",
       "    <tr>\n",
       "      <th>0</th>\n",
       "      <td>22329</td>\n",
       "      <td>Casing VenomRX GENJIRO Tempered Glass ATX Gami...</td>\n",
       "    </tr>\n",
       "    <tr>\n",
       "      <th>1</th>\n",
       "      <td>23920L</td>\n",
       "      <td>FAN AIGO Darkflash INFINITY 8 ARGB 5IN1 - 12CM...</td>\n",
       "    </tr>\n",
       "    <tr>\n",
       "      <th>2</th>\n",
       "      <td>28211e</td>\n",
       "      <td>MSI MAG B650M MORTAR WIFI Ryzen 7000 Combo</td>\n",
       "    </tr>\n",
       "    <tr>\n",
       "      <th>3</th>\n",
       "      <td>46626</td>\n",
       "      <td>Casing VenomRX Vecna ATX 3Fan RGB Gaming Case</td>\n",
       "    </tr>\n",
       "    <tr>\n",
       "      <th>4</th>\n",
       "      <td>64075L</td>\n",
       "      <td>PC RAKITAN Intel Core i5 12400 | Ram 16GB | SS...</td>\n",
       "    </tr>\n",
       "    <tr>\n",
       "      <th>5</th>\n",
       "      <td>71032r</td>\n",
       "      <td>MSI PRO B760M-P DDR4 | Motherboard Intel B760 ...</td>\n",
       "    </tr>\n",
       "    <tr>\n",
       "      <th>6</th>\n",
       "      <td>75239v</td>\n",
       "      <td>Power Supply FSP Hydro G PRO ATX PCIe 5.0 1000...</td>\n",
       "    </tr>\n",
       "    <tr>\n",
       "      <th>7</th>\n",
       "      <td>76461</td>\n",
       "      <td>Casing GIGABYTE AORUS AC300 ATX Gaming Case</td>\n",
       "    </tr>\n",
       "    <tr>\n",
       "      <th>8</th>\n",
       "      <td>79479p</td>\n",
       "      <td>AIGO DarkFlash DLM21 MESH Black - Tempered Gla...</td>\n",
       "    </tr>\n",
       "    <tr>\n",
       "      <th>9</th>\n",
       "      <td>87856K</td>\n",
       "      <td>Monitor Lenovo L24i-30 23.8 Inch IPS FHD 75hz</td>\n",
       "    </tr>\n",
       "    <tr>\n",
       "      <th>10</th>\n",
       "      <td>95872v</td>\n",
       "      <td>Motherboard GIGABYTE Z790 AORUS ELITE AX (Inte...</td>\n",
       "    </tr>\n",
       "    <tr>\n",
       "      <th>11</th>\n",
       "      <td>98949</td>\n",
       "      <td>VGA ASRock AMD Radeon RX 6650 XT Challenger D ...</td>\n",
       "    </tr>\n",
       "  </tbody>\n",
       "</table>\n",
       "</div>"
      ],
      "text/plain": [
       "   stock_code                                       Description2\n",
       "0       22329  Casing VenomRX GENJIRO Tempered Glass ATX Gami...\n",
       "1      23920L  FAN AIGO Darkflash INFINITY 8 ARGB 5IN1 - 12CM...\n",
       "2      28211e         MSI MAG B650M MORTAR WIFI Ryzen 7000 Combo\n",
       "3       46626      Casing VenomRX Vecna ATX 3Fan RGB Gaming Case\n",
       "4      64075L  PC RAKITAN Intel Core i5 12400 | Ram 16GB | SS...\n",
       "5      71032r  MSI PRO B760M-P DDR4 | Motherboard Intel B760 ...\n",
       "6      75239v  Power Supply FSP Hydro G PRO ATX PCIe 5.0 1000...\n",
       "7       76461        Casing GIGABYTE AORUS AC300 ATX Gaming Case\n",
       "8      79479p  AIGO DarkFlash DLM21 MESH Black - Tempered Gla...\n",
       "9      87856K      Monitor Lenovo L24i-30 23.8 Inch IPS FHD 75hz\n",
       "10     95872v  Motherboard GIGABYTE Z790 AORUS ELITE AX (Inte...\n",
       "11      98949  VGA ASRock AMD Radeon RX 6650 XT Challenger D ..."
      ]
     },
     "execution_count": 16,
     "metadata": {},
     "output_type": "execute_result"
    }
   ],
   "source": [
    "# Take one Description for each StockCode\n",
    "df_itms.loc[:, 'Description2'] = df_itms.Description2.map(lambda x: x[0])\n",
    "\n",
    "# StockCode that have more than one Description\n",
    "df_itms[df_itms['Description2'].str.len() != 1]"
   ]
  },
  {
   "cell_type": "code",
   "execution_count": 17,
   "metadata": {
    "ExecuteTime": {
     "end_time": "2023-06-16T11:36:00.059962500Z",
     "start_time": "2023-06-16T11:35:59.940964800Z"
    }
   },
   "outputs": [
    {
     "data": {
      "text/html": [
       "<div>\n",
       "<style scoped>\n",
       "    .dataframe tbody tr th:only-of-type {\n",
       "        vertical-align: middle;\n",
       "    }\n",
       "\n",
       "    .dataframe tbody tr th {\n",
       "        vertical-align: top;\n",
       "    }\n",
       "\n",
       "    .dataframe thead th {\n",
       "        text-align: right;\n",
       "    }\n",
       "</style>\n",
       "<table border=\"1\" class=\"dataframe\">\n",
       "  <thead>\n",
       "    <tr style=\"text-align: right;\">\n",
       "      <th></th>\n",
       "      <th>name</th>\n",
       "      <th>price</th>\n",
       "      <th>rating</th>\n",
       "      <th>sold</th>\n",
       "      <th>Quantity</th>\n",
       "      <th>category</th>\n",
       "      <th>stock_code</th>\n",
       "      <th>invoice</th>\n",
       "      <th>country</th>\n",
       "      <th>Description2</th>\n",
       "    </tr>\n",
       "  </thead>\n",
       "  <tbody>\n",
       "    <tr>\n",
       "      <th>0</th>\n",
       "      <td>VGA ASRock AMD Radeon RX 6650 XT Challenger D ...</td>\n",
       "      <td>Rp 4.950.000</td>\n",
       "      <td>5.0</td>\n",
       "      <td>1.0</td>\n",
       "      <td>88</td>\n",
       "      <td>Graphics Card</td>\n",
       "      <td>98949</td>\n",
       "      <td>5632</td>\n",
       "      <td>indonesia</td>\n",
       "      <td>VGA ASRock AMD Radeon RX 6650 XT Challenger D ...</td>\n",
       "    </tr>\n",
       "    <tr>\n",
       "      <th>1</th>\n",
       "      <td>Casing VenomRX GENJIRO Tempered Glass ATX Gami...</td>\n",
       "      <td>Rp 515.000</td>\n",
       "      <td>5.0</td>\n",
       "      <td>3.0</td>\n",
       "      <td>32</td>\n",
       "      <td>Casing</td>\n",
       "      <td>22329</td>\n",
       "      <td>6490</td>\n",
       "      <td>indonesia</td>\n",
       "      <td>Casing VenomRX GENJIRO Tempered Glass ATX Gami...</td>\n",
       "    </tr>\n",
       "    <tr>\n",
       "      <th>2</th>\n",
       "      <td>Casing VenomRX Vecna ATX 3Fan RGB Gaming Case</td>\n",
       "      <td>Rp 490.000</td>\n",
       "      <td>5.0</td>\n",
       "      <td>1.0</td>\n",
       "      <td>56</td>\n",
       "      <td>Casing</td>\n",
       "      <td>46626</td>\n",
       "      <td>1720</td>\n",
       "      <td>indonesia</td>\n",
       "      <td>Casing VenomRX Vecna ATX 3Fan RGB Gaming Case</td>\n",
       "    </tr>\n",
       "    <tr>\n",
       "      <th>3</th>\n",
       "      <td>MSI PRO B760M-P DDR4 | Motherboard Intel B760 ...</td>\n",
       "      <td>Rp 1.799.999</td>\n",
       "      <td>5.0</td>\n",
       "      <td>6.0</td>\n",
       "      <td>83</td>\n",
       "      <td>Motherboard</td>\n",
       "      <td>71032r</td>\n",
       "      <td>4964</td>\n",
       "      <td>indonesia</td>\n",
       "      <td>MSI PRO B760M-P DDR4 | Motherboard Intel B760 ...</td>\n",
       "    </tr>\n",
       "    <tr>\n",
       "      <th>4</th>\n",
       "      <td>PC RAKITAN Intel Core i5 12400 | Ram 16GB | SS...</td>\n",
       "      <td>Rp 18.785.000</td>\n",
       "      <td>5.0</td>\n",
       "      <td>1.0</td>\n",
       "      <td>82</td>\n",
       "      <td>PC Build</td>\n",
       "      <td>64075L</td>\n",
       "      <td>7698</td>\n",
       "      <td>indonesia</td>\n",
       "      <td>PC RAKITAN Intel Core i5 12400 | Ram 16GB | SS...</td>\n",
       "    </tr>\n",
       "  </tbody>\n",
       "</table>\n",
       "</div>"
      ],
      "text/plain": [
       "                                                name          price  rating  \\\n",
       "0  VGA ASRock AMD Radeon RX 6650 XT Challenger D ...   Rp 4.950.000     5.0   \n",
       "1  Casing VenomRX GENJIRO Tempered Glass ATX Gami...     Rp 515.000     5.0   \n",
       "2      Casing VenomRX Vecna ATX 3Fan RGB Gaming Case     Rp 490.000     5.0   \n",
       "3  MSI PRO B760M-P DDR4 | Motherboard Intel B760 ...   Rp 1.799.999     5.0   \n",
       "4  PC RAKITAN Intel Core i5 12400 | Ram 16GB | SS...  Rp 18.785.000     5.0   \n",
       "\n",
       "   sold  Quantity       category stock_code invoice    country  \\\n",
       "0   1.0        88  Graphics Card      98949    5632  indonesia   \n",
       "1   3.0        32         Casing      22329    6490  indonesia   \n",
       "2   1.0        56         Casing      46626    1720  indonesia   \n",
       "3   6.0        83    Motherboard     71032r    4964  indonesia   \n",
       "4   1.0        82       PC Build     64075L    7698  indonesia   \n",
       "\n",
       "                                        Description2  \n",
       "0  VGA ASRock AMD Radeon RX 6650 XT Challenger D ...  \n",
       "1  Casing VenomRX GENJIRO Tempered Glass ATX Gami...  \n",
       "2      Casing VenomRX Vecna ATX 3Fan RGB Gaming Case  \n",
       "3  MSI PRO B760M-P DDR4 | Motherboard Intel B760 ...  \n",
       "4  PC RAKITAN Intel Core i5 12400 | Ram 16GB | SS...  "
      ]
     },
     "execution_count": 17,
     "metadata": {},
     "output_type": "execute_result"
    }
   ],
   "source": [
    "# Merge clean_df with df_itms\n",
    "clean_df = pd.merge(clean_df, df_itms, on = 'stock_code')\n",
    "clean_df = clean_df.drop('Description', axis = 1)\n",
    "clean_df.head()"
   ]
  },
  {
   "cell_type": "code",
   "execution_count": 18,
   "metadata": {
    "ExecuteTime": {
     "end_time": "2023-06-16T11:36:00.060961400Z",
     "start_time": "2023-06-16T11:35:59.970965800Z"
    }
   },
   "outputs": [
    {
     "data": {
      "text/html": [
       "<div>\n",
       "<style scoped>\n",
       "    .dataframe tbody tr th:only-of-type {\n",
       "        vertical-align: middle;\n",
       "    }\n",
       "\n",
       "    .dataframe tbody tr th {\n",
       "        vertical-align: top;\n",
       "    }\n",
       "\n",
       "    .dataframe thead th {\n",
       "        text-align: right;\n",
       "    }\n",
       "</style>\n",
       "<table border=\"1\" class=\"dataframe\">\n",
       "  <thead>\n",
       "    <tr style=\"text-align: right;\">\n",
       "      <th></th>\n",
       "      <th>name</th>\n",
       "      <th>price</th>\n",
       "      <th>rating</th>\n",
       "      <th>sold</th>\n",
       "      <th>Quantity</th>\n",
       "      <th>category</th>\n",
       "      <th>stock_code</th>\n",
       "      <th>invoice</th>\n",
       "      <th>country</th>\n",
       "      <th>Description</th>\n",
       "    </tr>\n",
       "  </thead>\n",
       "  <tbody>\n",
       "    <tr>\n",
       "      <th>0</th>\n",
       "      <td>VGA ASRock AMD Radeon RX 6650 XT Challenger D ...</td>\n",
       "      <td>Rp 4.950.000</td>\n",
       "      <td>5.0</td>\n",
       "      <td>1.0</td>\n",
       "      <td>88</td>\n",
       "      <td>Graphics Card</td>\n",
       "      <td>98949</td>\n",
       "      <td>5632</td>\n",
       "      <td>indonesia</td>\n",
       "      <td>VGA ASRock AMD Radeon RX 6650 XT Challenger D ...</td>\n",
       "    </tr>\n",
       "    <tr>\n",
       "      <th>1</th>\n",
       "      <td>Casing VenomRX GENJIRO Tempered Glass ATX Gami...</td>\n",
       "      <td>Rp 515.000</td>\n",
       "      <td>5.0</td>\n",
       "      <td>3.0</td>\n",
       "      <td>32</td>\n",
       "      <td>Casing</td>\n",
       "      <td>22329</td>\n",
       "      <td>6490</td>\n",
       "      <td>indonesia</td>\n",
       "      <td>Casing VenomRX GENJIRO Tempered Glass ATX Gami...</td>\n",
       "    </tr>\n",
       "    <tr>\n",
       "      <th>2</th>\n",
       "      <td>Casing VenomRX Vecna ATX 3Fan RGB Gaming Case</td>\n",
       "      <td>Rp 490.000</td>\n",
       "      <td>5.0</td>\n",
       "      <td>1.0</td>\n",
       "      <td>56</td>\n",
       "      <td>Casing</td>\n",
       "      <td>46626</td>\n",
       "      <td>1720</td>\n",
       "      <td>indonesia</td>\n",
       "      <td>Casing VenomRX Vecna ATX 3Fan RGB Gaming Case</td>\n",
       "    </tr>\n",
       "    <tr>\n",
       "      <th>3</th>\n",
       "      <td>MSI PRO B760M-P DDR4 | Motherboard Intel B760 ...</td>\n",
       "      <td>Rp 1.799.999</td>\n",
       "      <td>5.0</td>\n",
       "      <td>6.0</td>\n",
       "      <td>83</td>\n",
       "      <td>Motherboard</td>\n",
       "      <td>71032r</td>\n",
       "      <td>4964</td>\n",
       "      <td>indonesia</td>\n",
       "      <td>MSI PRO B760M-P DDR4 | Motherboard Intel B760 ...</td>\n",
       "    </tr>\n",
       "    <tr>\n",
       "      <th>4</th>\n",
       "      <td>PC RAKITAN Intel Core i5 12400 | Ram 16GB | SS...</td>\n",
       "      <td>Rp 18.785.000</td>\n",
       "      <td>5.0</td>\n",
       "      <td>1.0</td>\n",
       "      <td>82</td>\n",
       "      <td>PC Build</td>\n",
       "      <td>64075L</td>\n",
       "      <td>7698</td>\n",
       "      <td>indonesia</td>\n",
       "      <td>PC RAKITAN Intel Core i5 12400 | Ram 16GB | SS...</td>\n",
       "    </tr>\n",
       "  </tbody>\n",
       "</table>\n",
       "</div>"
      ],
      "text/plain": [
       "                                                name          price  rating  \\\n",
       "0  VGA ASRock AMD Radeon RX 6650 XT Challenger D ...   Rp 4.950.000     5.0   \n",
       "1  Casing VenomRX GENJIRO Tempered Glass ATX Gami...     Rp 515.000     5.0   \n",
       "2      Casing VenomRX Vecna ATX 3Fan RGB Gaming Case     Rp 490.000     5.0   \n",
       "3  MSI PRO B760M-P DDR4 | Motherboard Intel B760 ...   Rp 1.799.999     5.0   \n",
       "4  PC RAKITAN Intel Core i5 12400 | Ram 16GB | SS...  Rp 18.785.000     5.0   \n",
       "\n",
       "   sold  Quantity       category stock_code invoice    country  \\\n",
       "0   1.0        88  Graphics Card      98949    5632  indonesia   \n",
       "1   3.0        32         Casing      22329    6490  indonesia   \n",
       "2   1.0        56         Casing      46626    1720  indonesia   \n",
       "3   6.0        83    Motherboard     71032r    4964  indonesia   \n",
       "4   1.0        82       PC Build     64075L    7698  indonesia   \n",
       "\n",
       "                                         Description  \n",
       "0  VGA ASRock AMD Radeon RX 6650 XT Challenger D ...  \n",
       "1  Casing VenomRX GENJIRO Tempered Glass ATX Gami...  \n",
       "2      Casing VenomRX Vecna ATX 3Fan RGB Gaming Case  \n",
       "3  MSI PRO B760M-P DDR4 | Motherboard Intel B760 ...  \n",
       "4  PC RAKITAN Intel Core i5 12400 | Ram 16GB | SS...  "
      ]
     },
     "execution_count": 18,
     "metadata": {},
     "output_type": "execute_result"
    }
   ],
   "source": [
    "clean_df.rename(columns = { 'Description2': 'Description'}, inplace = True)\n",
    "clean_df.head()"
   ]
  },
  {
   "cell_type": "markdown",
   "metadata": {},
   "source": [
    "### 2.3. Creating Dummy Variables"
   ]
  },
  {
   "cell_type": "markdown",
   "metadata": {},
   "source": [
    "To build the association rule model, the `Description` categorical variables should be converted to dummy variables."
   ]
  },
  {
   "cell_type": "markdown",
   "metadata": {},
   "source": [
    "#### 2.3.1 All Countries Data"
   ]
  },
  {
   "cell_type": "code",
   "execution_count": 19,
   "metadata": {
    "ExecuteTime": {
     "end_time": "2023-06-16T11:36:00.205968800Z",
     "start_time": "2023-06-16T11:35:59.986967800Z"
    }
   },
   "outputs": [
    {
     "data": {
      "text/plain": [
       "invoice  Description                                                           \n",
       "1687     FAN AIGO Darkflash INFINITY 8 ARGB 5IN1 - 12CM WHITE                      73\n",
       "1720     Casing VenomRX Vecna ATX 3Fan RGB Gaming Case                             56\n",
       "2437     AIGO DarkFlash DLM21 MESH Black - Tempered Glass Micro ATX Gaming Case    30\n",
       "3891     Power Supply FSP Hydro G PRO ATX PCIe 5.0 1000W 80 Plus Gold - PSU        46\n",
       "4864     Motherboard GIGABYTE Z790 AORUS ELITE AX (Intel Z790, DDR5, LGA 1700)     41\n",
       "Name: Quantity, dtype: int64"
      ]
     },
     "execution_count": 19,
     "metadata": {},
     "output_type": "execute_result"
    }
   ],
   "source": [
    "df_itms_togthr = clean_df.groupby(['invoice','Description'])['Quantity'].sum()\n",
    "df_itms_togthr.head()"
   ]
  },
  {
   "cell_type": "code",
   "execution_count": 20,
   "metadata": {
    "ExecuteTime": {
     "end_time": "2023-06-16T11:36:00.206968400Z",
     "start_time": "2023-06-16T11:36:00.002962500Z"
    }
   },
   "outputs": [
    {
     "data": {
      "text/html": [
       "<div>\n",
       "<style scoped>\n",
       "    .dataframe tbody tr th:only-of-type {\n",
       "        vertical-align: middle;\n",
       "    }\n",
       "\n",
       "    .dataframe tbody tr th {\n",
       "        vertical-align: top;\n",
       "    }\n",
       "\n",
       "    .dataframe thead th {\n",
       "        text-align: right;\n",
       "    }\n",
       "</style>\n",
       "<table border=\"1\" class=\"dataframe\">\n",
       "  <thead>\n",
       "    <tr style=\"text-align: right;\">\n",
       "      <th>Description</th>\n",
       "      <th>AIGO DarkFlash DLM21 MESH Black - Tempered Glass Micro ATX Gaming Case</th>\n",
       "      <th>Casing GIGABYTE AORUS AC300 ATX Gaming Case</th>\n",
       "      <th>Casing VenomRX GENJIRO Tempered Glass ATX Gaming Case</th>\n",
       "      <th>Casing VenomRX Vecna ATX 3Fan RGB Gaming Case</th>\n",
       "      <th>FAN AIGO Darkflash INFINITY 8 ARGB 5IN1 - 12CM WHITE</th>\n",
       "      <th>MSI MAG B650M MORTAR WIFI Ryzen 7000 Combo</th>\n",
       "      <th>MSI PRO B760M-P DDR4 | Motherboard Intel B760 LGA1700</th>\n",
       "      <th>Monitor Lenovo L24i-30 23.8 Inch IPS FHD 75hz</th>\n",
       "      <th>Motherboard GIGABYTE Z790 AORUS ELITE AX (Intel Z790, DDR5, LGA 1700)</th>\n",
       "      <th>PC RAKITAN Intel Core i5 12400 | Ram 16GB | SSD 500GB</th>\n",
       "      <th>Power Supply FSP Hydro G PRO ATX PCIe 5.0 1000W 80 Plus Gold - PSU</th>\n",
       "      <th>VGA ASRock AMD Radeon RX 6650 XT Challenger D 8GB OC</th>\n",
       "    </tr>\n",
       "    <tr>\n",
       "      <th>invoice</th>\n",
       "      <th></th>\n",
       "      <th></th>\n",
       "      <th></th>\n",
       "      <th></th>\n",
       "      <th></th>\n",
       "      <th></th>\n",
       "      <th></th>\n",
       "      <th></th>\n",
       "      <th></th>\n",
       "      <th></th>\n",
       "      <th></th>\n",
       "      <th></th>\n",
       "    </tr>\n",
       "  </thead>\n",
       "  <tbody>\n",
       "    <tr>\n",
       "      <th>1687</th>\n",
       "      <td>0.0</td>\n",
       "      <td>0.0</td>\n",
       "      <td>0.0</td>\n",
       "      <td>0.0</td>\n",
       "      <td>73.0</td>\n",
       "      <td>0.0</td>\n",
       "      <td>0.0</td>\n",
       "      <td>0.0</td>\n",
       "      <td>0.0</td>\n",
       "      <td>0.0</td>\n",
       "      <td>0.0</td>\n",
       "      <td>0.0</td>\n",
       "    </tr>\n",
       "    <tr>\n",
       "      <th>1720</th>\n",
       "      <td>0.0</td>\n",
       "      <td>0.0</td>\n",
       "      <td>0.0</td>\n",
       "      <td>56.0</td>\n",
       "      <td>0.0</td>\n",
       "      <td>0.0</td>\n",
       "      <td>0.0</td>\n",
       "      <td>0.0</td>\n",
       "      <td>0.0</td>\n",
       "      <td>0.0</td>\n",
       "      <td>0.0</td>\n",
       "      <td>0.0</td>\n",
       "    </tr>\n",
       "    <tr>\n",
       "      <th>2437</th>\n",
       "      <td>30.0</td>\n",
       "      <td>0.0</td>\n",
       "      <td>0.0</td>\n",
       "      <td>0.0</td>\n",
       "      <td>0.0</td>\n",
       "      <td>0.0</td>\n",
       "      <td>0.0</td>\n",
       "      <td>0.0</td>\n",
       "      <td>0.0</td>\n",
       "      <td>0.0</td>\n",
       "      <td>0.0</td>\n",
       "      <td>0.0</td>\n",
       "    </tr>\n",
       "    <tr>\n",
       "      <th>3891</th>\n",
       "      <td>0.0</td>\n",
       "      <td>0.0</td>\n",
       "      <td>0.0</td>\n",
       "      <td>0.0</td>\n",
       "      <td>0.0</td>\n",
       "      <td>0.0</td>\n",
       "      <td>0.0</td>\n",
       "      <td>0.0</td>\n",
       "      <td>0.0</td>\n",
       "      <td>0.0</td>\n",
       "      <td>46.0</td>\n",
       "      <td>0.0</td>\n",
       "    </tr>\n",
       "    <tr>\n",
       "      <th>4864</th>\n",
       "      <td>0.0</td>\n",
       "      <td>0.0</td>\n",
       "      <td>0.0</td>\n",
       "      <td>0.0</td>\n",
       "      <td>0.0</td>\n",
       "      <td>0.0</td>\n",
       "      <td>0.0</td>\n",
       "      <td>0.0</td>\n",
       "      <td>41.0</td>\n",
       "      <td>0.0</td>\n",
       "      <td>0.0</td>\n",
       "      <td>0.0</td>\n",
       "    </tr>\n",
       "  </tbody>\n",
       "</table>\n",
       "</div>"
      ],
      "text/plain": [
       "Description  AIGO DarkFlash DLM21 MESH Black - Tempered Glass Micro ATX Gaming Case  \\\n",
       "invoice                                                                               \n",
       "1687                                                       0.0                        \n",
       "1720                                                       0.0                        \n",
       "2437                                                      30.0                        \n",
       "3891                                                       0.0                        \n",
       "4864                                                       0.0                        \n",
       "\n",
       "Description  Casing GIGABYTE AORUS AC300 ATX Gaming Case  \\\n",
       "invoice                                                    \n",
       "1687                                                 0.0   \n",
       "1720                                                 0.0   \n",
       "2437                                                 0.0   \n",
       "3891                                                 0.0   \n",
       "4864                                                 0.0   \n",
       "\n",
       "Description  Casing VenomRX GENJIRO Tempered Glass ATX Gaming Case  \\\n",
       "invoice                                                              \n",
       "1687                                                       0.0       \n",
       "1720                                                       0.0       \n",
       "2437                                                       0.0       \n",
       "3891                                                       0.0       \n",
       "4864                                                       0.0       \n",
       "\n",
       "Description  Casing VenomRX Vecna ATX 3Fan RGB Gaming Case  \\\n",
       "invoice                                                      \n",
       "1687                                                   0.0   \n",
       "1720                                                  56.0   \n",
       "2437                                                   0.0   \n",
       "3891                                                   0.0   \n",
       "4864                                                   0.0   \n",
       "\n",
       "Description  FAN AIGO Darkflash INFINITY 8 ARGB 5IN1 - 12CM WHITE  \\\n",
       "invoice                                                             \n",
       "1687                                                      73.0      \n",
       "1720                                                       0.0      \n",
       "2437                                                       0.0      \n",
       "3891                                                       0.0      \n",
       "4864                                                       0.0      \n",
       "\n",
       "Description  MSI MAG B650M MORTAR WIFI Ryzen 7000 Combo  \\\n",
       "invoice                                                   \n",
       "1687                                                0.0   \n",
       "1720                                                0.0   \n",
       "2437                                                0.0   \n",
       "3891                                                0.0   \n",
       "4864                                                0.0   \n",
       "\n",
       "Description  MSI PRO B760M-P DDR4 | Motherboard Intel B760 LGA1700  \\\n",
       "invoice                                                              \n",
       "1687                                                       0.0       \n",
       "1720                                                       0.0       \n",
       "2437                                                       0.0       \n",
       "3891                                                       0.0       \n",
       "4864                                                       0.0       \n",
       "\n",
       "Description  Monitor Lenovo L24i-30 23.8 Inch IPS FHD 75hz  \\\n",
       "invoice                                                      \n",
       "1687                                                   0.0   \n",
       "1720                                                   0.0   \n",
       "2437                                                   0.0   \n",
       "3891                                                   0.0   \n",
       "4864                                                   0.0   \n",
       "\n",
       "Description  Motherboard GIGABYTE Z790 AORUS ELITE AX (Intel Z790, DDR5, LGA 1700)  \\\n",
       "invoice                                                                              \n",
       "1687                                                       0.0                       \n",
       "1720                                                       0.0                       \n",
       "2437                                                       0.0                       \n",
       "3891                                                       0.0                       \n",
       "4864                                                      41.0                       \n",
       "\n",
       "Description  PC RAKITAN Intel Core i5 12400 | Ram 16GB | SSD 500GB  \\\n",
       "invoice                                                              \n",
       "1687                                                       0.0       \n",
       "1720                                                       0.0       \n",
       "2437                                                       0.0       \n",
       "3891                                                       0.0       \n",
       "4864                                                       0.0       \n",
       "\n",
       "Description  Power Supply FSP Hydro G PRO ATX PCIe 5.0 1000W 80 Plus Gold - PSU  \\\n",
       "invoice                                                                           \n",
       "1687                                                       0.0                    \n",
       "1720                                                       0.0                    \n",
       "2437                                                       0.0                    \n",
       "3891                                                      46.0                    \n",
       "4864                                                       0.0                    \n",
       "\n",
       "Description  VGA ASRock AMD Radeon RX 6650 XT Challenger D 8GB OC  \n",
       "invoice                                                            \n",
       "1687                                                       0.0     \n",
       "1720                                                       0.0     \n",
       "2437                                                       0.0     \n",
       "3891                                                       0.0     \n",
       "4864                                                       0.0     "
      ]
     },
     "execution_count": 20,
     "metadata": {},
     "output_type": "execute_result"
    }
   ],
   "source": [
    "df_itms_togthr = df_itms_togthr.unstack().fillna(0)\n",
    "df_itms_togthr.head()"
   ]
  },
  {
   "cell_type": "code",
   "execution_count": 21,
   "metadata": {
    "ExecuteTime": {
     "end_time": "2023-06-16T11:36:00.206968400Z",
     "start_time": "2023-06-16T11:36:00.033969900Z"
    }
   },
   "outputs": [
    {
     "data": {
      "text/html": [
       "<div>\n",
       "<style scoped>\n",
       "    .dataframe tbody tr th:only-of-type {\n",
       "        vertical-align: middle;\n",
       "    }\n",
       "\n",
       "    .dataframe tbody tr th {\n",
       "        vertical-align: top;\n",
       "    }\n",
       "\n",
       "    .dataframe thead th {\n",
       "        text-align: right;\n",
       "    }\n",
       "</style>\n",
       "<table border=\"1\" class=\"dataframe\">\n",
       "  <thead>\n",
       "    <tr style=\"text-align: right;\">\n",
       "      <th>Description</th>\n",
       "      <th>AIGO DarkFlash DLM21 MESH Black - Tempered Glass Micro ATX Gaming Case</th>\n",
       "      <th>Casing GIGABYTE AORUS AC300 ATX Gaming Case</th>\n",
       "      <th>Casing VenomRX GENJIRO Tempered Glass ATX Gaming Case</th>\n",
       "      <th>Casing VenomRX Vecna ATX 3Fan RGB Gaming Case</th>\n",
       "      <th>FAN AIGO Darkflash INFINITY 8 ARGB 5IN1 - 12CM WHITE</th>\n",
       "      <th>MSI MAG B650M MORTAR WIFI Ryzen 7000 Combo</th>\n",
       "      <th>MSI PRO B760M-P DDR4 | Motherboard Intel B760 LGA1700</th>\n",
       "      <th>Monitor Lenovo L24i-30 23.8 Inch IPS FHD 75hz</th>\n",
       "      <th>Motherboard GIGABYTE Z790 AORUS ELITE AX (Intel Z790, DDR5, LGA 1700)</th>\n",
       "      <th>PC RAKITAN Intel Core i5 12400 | Ram 16GB | SSD 500GB</th>\n",
       "      <th>Power Supply FSP Hydro G PRO ATX PCIe 5.0 1000W 80 Plus Gold - PSU</th>\n",
       "      <th>VGA ASRock AMD Radeon RX 6650 XT Challenger D 8GB OC</th>\n",
       "    </tr>\n",
       "    <tr>\n",
       "      <th>invoice</th>\n",
       "      <th></th>\n",
       "      <th></th>\n",
       "      <th></th>\n",
       "      <th></th>\n",
       "      <th></th>\n",
       "      <th></th>\n",
       "      <th></th>\n",
       "      <th></th>\n",
       "      <th></th>\n",
       "      <th></th>\n",
       "      <th></th>\n",
       "      <th></th>\n",
       "    </tr>\n",
       "  </thead>\n",
       "  <tbody>\n",
       "    <tr>\n",
       "      <th>1687</th>\n",
       "      <td>0</td>\n",
       "      <td>0</td>\n",
       "      <td>0</td>\n",
       "      <td>0</td>\n",
       "      <td>1</td>\n",
       "      <td>0</td>\n",
       "      <td>0</td>\n",
       "      <td>0</td>\n",
       "      <td>0</td>\n",
       "      <td>0</td>\n",
       "      <td>0</td>\n",
       "      <td>0</td>\n",
       "    </tr>\n",
       "    <tr>\n",
       "      <th>1720</th>\n",
       "      <td>0</td>\n",
       "      <td>0</td>\n",
       "      <td>0</td>\n",
       "      <td>1</td>\n",
       "      <td>0</td>\n",
       "      <td>0</td>\n",
       "      <td>0</td>\n",
       "      <td>0</td>\n",
       "      <td>0</td>\n",
       "      <td>0</td>\n",
       "      <td>0</td>\n",
       "      <td>0</td>\n",
       "    </tr>\n",
       "    <tr>\n",
       "      <th>2437</th>\n",
       "      <td>1</td>\n",
       "      <td>0</td>\n",
       "      <td>0</td>\n",
       "      <td>0</td>\n",
       "      <td>0</td>\n",
       "      <td>0</td>\n",
       "      <td>0</td>\n",
       "      <td>0</td>\n",
       "      <td>0</td>\n",
       "      <td>0</td>\n",
       "      <td>0</td>\n",
       "      <td>0</td>\n",
       "    </tr>\n",
       "    <tr>\n",
       "      <th>3891</th>\n",
       "      <td>0</td>\n",
       "      <td>0</td>\n",
       "      <td>0</td>\n",
       "      <td>0</td>\n",
       "      <td>0</td>\n",
       "      <td>0</td>\n",
       "      <td>0</td>\n",
       "      <td>0</td>\n",
       "      <td>0</td>\n",
       "      <td>0</td>\n",
       "      <td>1</td>\n",
       "      <td>0</td>\n",
       "    </tr>\n",
       "    <tr>\n",
       "      <th>4864</th>\n",
       "      <td>0</td>\n",
       "      <td>0</td>\n",
       "      <td>0</td>\n",
       "      <td>0</td>\n",
       "      <td>0</td>\n",
       "      <td>0</td>\n",
       "      <td>0</td>\n",
       "      <td>0</td>\n",
       "      <td>1</td>\n",
       "      <td>0</td>\n",
       "      <td>0</td>\n",
       "      <td>0</td>\n",
       "    </tr>\n",
       "  </tbody>\n",
       "</table>\n",
       "</div>"
      ],
      "text/plain": [
       "Description  AIGO DarkFlash DLM21 MESH Black - Tempered Glass Micro ATX Gaming Case  \\\n",
       "invoice                                                                               \n",
       "1687                                                         0                        \n",
       "1720                                                         0                        \n",
       "2437                                                         1                        \n",
       "3891                                                         0                        \n",
       "4864                                                         0                        \n",
       "\n",
       "Description  Casing GIGABYTE AORUS AC300 ATX Gaming Case  \\\n",
       "invoice                                                    \n",
       "1687                                                   0   \n",
       "1720                                                   0   \n",
       "2437                                                   0   \n",
       "3891                                                   0   \n",
       "4864                                                   0   \n",
       "\n",
       "Description  Casing VenomRX GENJIRO Tempered Glass ATX Gaming Case  \\\n",
       "invoice                                                              \n",
       "1687                                                         0       \n",
       "1720                                                         0       \n",
       "2437                                                         0       \n",
       "3891                                                         0       \n",
       "4864                                                         0       \n",
       "\n",
       "Description  Casing VenomRX Vecna ATX 3Fan RGB Gaming Case  \\\n",
       "invoice                                                      \n",
       "1687                                                     0   \n",
       "1720                                                     1   \n",
       "2437                                                     0   \n",
       "3891                                                     0   \n",
       "4864                                                     0   \n",
       "\n",
       "Description  FAN AIGO Darkflash INFINITY 8 ARGB 5IN1 - 12CM WHITE  \\\n",
       "invoice                                                             \n",
       "1687                                                         1      \n",
       "1720                                                         0      \n",
       "2437                                                         0      \n",
       "3891                                                         0      \n",
       "4864                                                         0      \n",
       "\n",
       "Description  MSI MAG B650M MORTAR WIFI Ryzen 7000 Combo  \\\n",
       "invoice                                                   \n",
       "1687                                                  0   \n",
       "1720                                                  0   \n",
       "2437                                                  0   \n",
       "3891                                                  0   \n",
       "4864                                                  0   \n",
       "\n",
       "Description  MSI PRO B760M-P DDR4 | Motherboard Intel B760 LGA1700  \\\n",
       "invoice                                                              \n",
       "1687                                                         0       \n",
       "1720                                                         0       \n",
       "2437                                                         0       \n",
       "3891                                                         0       \n",
       "4864                                                         0       \n",
       "\n",
       "Description  Monitor Lenovo L24i-30 23.8 Inch IPS FHD 75hz  \\\n",
       "invoice                                                      \n",
       "1687                                                     0   \n",
       "1720                                                     0   \n",
       "2437                                                     0   \n",
       "3891                                                     0   \n",
       "4864                                                     0   \n",
       "\n",
       "Description  Motherboard GIGABYTE Z790 AORUS ELITE AX (Intel Z790, DDR5, LGA 1700)  \\\n",
       "invoice                                                                              \n",
       "1687                                                         0                       \n",
       "1720                                                         0                       \n",
       "2437                                                         0                       \n",
       "3891                                                         0                       \n",
       "4864                                                         1                       \n",
       "\n",
       "Description  PC RAKITAN Intel Core i5 12400 | Ram 16GB | SSD 500GB  \\\n",
       "invoice                                                              \n",
       "1687                                                         0       \n",
       "1720                                                         0       \n",
       "2437                                                         0       \n",
       "3891                                                         0       \n",
       "4864                                                         0       \n",
       "\n",
       "Description  Power Supply FSP Hydro G PRO ATX PCIe 5.0 1000W 80 Plus Gold - PSU  \\\n",
       "invoice                                                                           \n",
       "1687                                                         0                    \n",
       "1720                                                         0                    \n",
       "2437                                                         0                    \n",
       "3891                                                         1                    \n",
       "4864                                                         0                    \n",
       "\n",
       "Description  VGA ASRock AMD Radeon RX 6650 XT Challenger D 8GB OC  \n",
       "invoice                                                            \n",
       "1687                                                         0     \n",
       "1720                                                         0     \n",
       "2437                                                         0     \n",
       "3891                                                         0     \n",
       "4864                                                         0     "
      ]
     },
     "execution_count": 21,
     "metadata": {},
     "output_type": "execute_result"
    }
   ],
   "source": [
    "# Encode the frequency of description to 0 or 1\n",
    "encode = lambda x : 1 if (x >= 1) else 0\n",
    "df_itms_togthr = df_itms_togthr.applymap(encode)\n",
    "df_itms_togthr.head()"
   ]
  },
  {
   "cell_type": "code",
   "execution_count": 22,
   "metadata": {
    "ExecuteTime": {
     "end_time": "2023-06-16T11:36:00.273982300Z",
     "start_time": "2023-06-16T11:36:00.067970700Z"
    }
   },
   "outputs": [
    {
     "data": {
      "text/plain": [
       "(12, 12)"
      ]
     },
     "execution_count": 22,
     "metadata": {},
     "output_type": "execute_result"
    }
   ],
   "source": [
    "df_itms_togthr.shape"
   ]
  },
  {
   "cell_type": "markdown",
   "metadata": {},
   "source": [
    "#### 2.3.2 Netherlands, Spain, France Countries Data"
   ]
  },
  {
   "cell_type": "code",
   "execution_count": 23,
   "metadata": {
    "ExecuteTime": {
     "end_time": "2023-06-16T11:36:00.295970900Z",
     "start_time": "2023-06-16T11:36:00.083964900Z"
    }
   },
   "outputs": [
    {
     "data": {
      "text/plain": [
       "\"spain_df = clean_df[clean_df['Country'] == 'Spain']\\nfrance_df = clean_df[clean_df['Country'] == 'France']\""
      ]
     },
     "execution_count": 23,
     "metadata": {},
     "output_type": "execute_result"
    }
   ],
   "source": [
    "nl_df = clean_df[clean_df['country'] == 'indonesia']\n",
    "'''spain_df = clean_df[clean_df['Country'] == 'Spain']\n",
    "france_df = clean_df[clean_df['Country'] == 'France']'''"
   ]
  },
  {
   "cell_type": "code",
   "execution_count": 24,
   "metadata": {
    "ExecuteTime": {
     "end_time": "2023-06-16T11:36:00.295970900Z",
     "start_time": "2023-06-16T11:36:00.106966100Z"
    }
   },
   "outputs": [
    {
     "data": {
      "text/html": [
       "<div>\n",
       "<style scoped>\n",
       "    .dataframe tbody tr th:only-of-type {\n",
       "        vertical-align: middle;\n",
       "    }\n",
       "\n",
       "    .dataframe tbody tr th {\n",
       "        vertical-align: top;\n",
       "    }\n",
       "\n",
       "    .dataframe thead th {\n",
       "        text-align: right;\n",
       "    }\n",
       "</style>\n",
       "<table border=\"1\" class=\"dataframe\">\n",
       "  <thead>\n",
       "    <tr style=\"text-align: right;\">\n",
       "      <th></th>\n",
       "      <th>name</th>\n",
       "      <th>price</th>\n",
       "      <th>rating</th>\n",
       "      <th>sold</th>\n",
       "      <th>Quantity</th>\n",
       "      <th>category</th>\n",
       "      <th>stock_code</th>\n",
       "      <th>invoice</th>\n",
       "      <th>country</th>\n",
       "      <th>Description</th>\n",
       "    </tr>\n",
       "  </thead>\n",
       "  <tbody>\n",
       "    <tr>\n",
       "      <th>0</th>\n",
       "      <td>VGA ASRock AMD Radeon RX 6650 XT Challenger D ...</td>\n",
       "      <td>Rp 4.950.000</td>\n",
       "      <td>5.0</td>\n",
       "      <td>1.0</td>\n",
       "      <td>88</td>\n",
       "      <td>Graphics Card</td>\n",
       "      <td>98949</td>\n",
       "      <td>5632</td>\n",
       "      <td>indonesia</td>\n",
       "      <td>VGA ASRock AMD Radeon RX 6650 XT Challenger D ...</td>\n",
       "    </tr>\n",
       "    <tr>\n",
       "      <th>1</th>\n",
       "      <td>Casing VenomRX GENJIRO Tempered Glass ATX Gami...</td>\n",
       "      <td>Rp 515.000</td>\n",
       "      <td>5.0</td>\n",
       "      <td>3.0</td>\n",
       "      <td>32</td>\n",
       "      <td>Casing</td>\n",
       "      <td>22329</td>\n",
       "      <td>6490</td>\n",
       "      <td>indonesia</td>\n",
       "      <td>Casing VenomRX GENJIRO Tempered Glass ATX Gami...</td>\n",
       "    </tr>\n",
       "    <tr>\n",
       "      <th>2</th>\n",
       "      <td>Casing VenomRX Vecna ATX 3Fan RGB Gaming Case</td>\n",
       "      <td>Rp 490.000</td>\n",
       "      <td>5.0</td>\n",
       "      <td>1.0</td>\n",
       "      <td>56</td>\n",
       "      <td>Casing</td>\n",
       "      <td>46626</td>\n",
       "      <td>1720</td>\n",
       "      <td>indonesia</td>\n",
       "      <td>Casing VenomRX Vecna ATX 3Fan RGB Gaming Case</td>\n",
       "    </tr>\n",
       "    <tr>\n",
       "      <th>3</th>\n",
       "      <td>MSI PRO B760M-P DDR4 | Motherboard Intel B760 ...</td>\n",
       "      <td>Rp 1.799.999</td>\n",
       "      <td>5.0</td>\n",
       "      <td>6.0</td>\n",
       "      <td>83</td>\n",
       "      <td>Motherboard</td>\n",
       "      <td>71032r</td>\n",
       "      <td>4964</td>\n",
       "      <td>indonesia</td>\n",
       "      <td>MSI PRO B760M-P DDR4 | Motherboard Intel B760 ...</td>\n",
       "    </tr>\n",
       "    <tr>\n",
       "      <th>4</th>\n",
       "      <td>PC RAKITAN Intel Core i5 12400 | Ram 16GB | SS...</td>\n",
       "      <td>Rp 18.785.000</td>\n",
       "      <td>5.0</td>\n",
       "      <td>1.0</td>\n",
       "      <td>82</td>\n",
       "      <td>PC Build</td>\n",
       "      <td>64075L</td>\n",
       "      <td>7698</td>\n",
       "      <td>indonesia</td>\n",
       "      <td>PC RAKITAN Intel Core i5 12400 | Ram 16GB | SS...</td>\n",
       "    </tr>\n",
       "  </tbody>\n",
       "</table>\n",
       "</div>"
      ],
      "text/plain": [
       "                                                name          price  rating  \\\n",
       "0  VGA ASRock AMD Radeon RX 6650 XT Challenger D ...   Rp 4.950.000     5.0   \n",
       "1  Casing VenomRX GENJIRO Tempered Glass ATX Gami...     Rp 515.000     5.0   \n",
       "2      Casing VenomRX Vecna ATX 3Fan RGB Gaming Case     Rp 490.000     5.0   \n",
       "3  MSI PRO B760M-P DDR4 | Motherboard Intel B760 ...   Rp 1.799.999     5.0   \n",
       "4  PC RAKITAN Intel Core i5 12400 | Ram 16GB | SS...  Rp 18.785.000     5.0   \n",
       "\n",
       "   sold  Quantity       category stock_code invoice    country  \\\n",
       "0   1.0        88  Graphics Card      98949    5632  indonesia   \n",
       "1   3.0        32         Casing      22329    6490  indonesia   \n",
       "2   1.0        56         Casing      46626    1720  indonesia   \n",
       "3   6.0        83    Motherboard     71032r    4964  indonesia   \n",
       "4   1.0        82       PC Build     64075L    7698  indonesia   \n",
       "\n",
       "                                         Description  \n",
       "0  VGA ASRock AMD Radeon RX 6650 XT Challenger D ...  \n",
       "1  Casing VenomRX GENJIRO Tempered Glass ATX Gami...  \n",
       "2      Casing VenomRX Vecna ATX 3Fan RGB Gaming Case  \n",
       "3  MSI PRO B760M-P DDR4 | Motherboard Intel B760 ...  \n",
       "4  PC RAKITAN Intel Core i5 12400 | Ram 16GB | SS...  "
      ]
     },
     "execution_count": 24,
     "metadata": {},
     "output_type": "execute_result"
    }
   ],
   "source": [
    "nl_df.head()"
   ]
  },
  {
   "cell_type": "code",
   "execution_count": 25,
   "metadata": {
    "ExecuteTime": {
     "end_time": "2023-06-16T11:36:00.342525400Z",
     "start_time": "2023-06-16T11:36:00.114970800Z"
    }
   },
   "outputs": [
    {
     "data": {
      "text/plain": [
       "'spain_df.head()'"
      ]
     },
     "execution_count": 25,
     "metadata": {},
     "output_type": "execute_result"
    }
   ],
   "source": [
    "'''spain_df.head()'''"
   ]
  },
  {
   "cell_type": "code",
   "execution_count": 26,
   "metadata": {
    "ExecuteTime": {
     "end_time": "2023-06-16T11:36:00.388525500Z",
     "start_time": "2023-06-16T11:36:00.130964800Z"
    }
   },
   "outputs": [
    {
     "data": {
      "text/plain": [
       "'france_df.head()'"
      ]
     },
     "execution_count": 26,
     "metadata": {},
     "output_type": "execute_result"
    }
   ],
   "source": [
    "'''france_df.head()'''"
   ]
  },
  {
   "cell_type": "code",
   "execution_count": 27,
   "metadata": {
    "ExecuteTime": {
     "end_time": "2023-06-16T11:36:00.510901700Z",
     "start_time": "2023-06-16T11:36:00.150965500Z"
    }
   },
   "outputs": [
    {
     "data": {
      "text/html": [
       "<div>\n",
       "<style scoped>\n",
       "    .dataframe tbody tr th:only-of-type {\n",
       "        vertical-align: middle;\n",
       "    }\n",
       "\n",
       "    .dataframe tbody tr th {\n",
       "        vertical-align: top;\n",
       "    }\n",
       "\n",
       "    .dataframe thead th {\n",
       "        text-align: right;\n",
       "    }\n",
       "</style>\n",
       "<table border=\"1\" class=\"dataframe\">\n",
       "  <thead>\n",
       "    <tr style=\"text-align: right;\">\n",
       "      <th>Description</th>\n",
       "      <th>AIGO DarkFlash DLM21 MESH Black - Tempered Glass Micro ATX Gaming Case</th>\n",
       "      <th>Casing GIGABYTE AORUS AC300 ATX Gaming Case</th>\n",
       "      <th>Casing VenomRX GENJIRO Tempered Glass ATX Gaming Case</th>\n",
       "      <th>Casing VenomRX Vecna ATX 3Fan RGB Gaming Case</th>\n",
       "      <th>FAN AIGO Darkflash INFINITY 8 ARGB 5IN1 - 12CM WHITE</th>\n",
       "      <th>MSI MAG B650M MORTAR WIFI Ryzen 7000 Combo</th>\n",
       "      <th>MSI PRO B760M-P DDR4 | Motherboard Intel B760 LGA1700</th>\n",
       "      <th>Monitor Lenovo L24i-30 23.8 Inch IPS FHD 75hz</th>\n",
       "      <th>Motherboard GIGABYTE Z790 AORUS ELITE AX (Intel Z790, DDR5, LGA 1700)</th>\n",
       "      <th>PC RAKITAN Intel Core i5 12400 | Ram 16GB | SSD 500GB</th>\n",
       "      <th>Power Supply FSP Hydro G PRO ATX PCIe 5.0 1000W 80 Plus Gold - PSU</th>\n",
       "      <th>VGA ASRock AMD Radeon RX 6650 XT Challenger D 8GB OC</th>\n",
       "    </tr>\n",
       "    <tr>\n",
       "      <th>invoice</th>\n",
       "      <th></th>\n",
       "      <th></th>\n",
       "      <th></th>\n",
       "      <th></th>\n",
       "      <th></th>\n",
       "      <th></th>\n",
       "      <th></th>\n",
       "      <th></th>\n",
       "      <th></th>\n",
       "      <th></th>\n",
       "      <th></th>\n",
       "      <th></th>\n",
       "    </tr>\n",
       "  </thead>\n",
       "  <tbody>\n",
       "    <tr>\n",
       "      <th>1687</th>\n",
       "      <td>0</td>\n",
       "      <td>0</td>\n",
       "      <td>0</td>\n",
       "      <td>0</td>\n",
       "      <td>1</td>\n",
       "      <td>0</td>\n",
       "      <td>0</td>\n",
       "      <td>0</td>\n",
       "      <td>0</td>\n",
       "      <td>0</td>\n",
       "      <td>0</td>\n",
       "      <td>0</td>\n",
       "    </tr>\n",
       "    <tr>\n",
       "      <th>1720</th>\n",
       "      <td>0</td>\n",
       "      <td>0</td>\n",
       "      <td>0</td>\n",
       "      <td>1</td>\n",
       "      <td>0</td>\n",
       "      <td>0</td>\n",
       "      <td>0</td>\n",
       "      <td>0</td>\n",
       "      <td>0</td>\n",
       "      <td>0</td>\n",
       "      <td>0</td>\n",
       "      <td>0</td>\n",
       "    </tr>\n",
       "    <tr>\n",
       "      <th>2437</th>\n",
       "      <td>1</td>\n",
       "      <td>0</td>\n",
       "      <td>0</td>\n",
       "      <td>0</td>\n",
       "      <td>0</td>\n",
       "      <td>0</td>\n",
       "      <td>0</td>\n",
       "      <td>0</td>\n",
       "      <td>0</td>\n",
       "      <td>0</td>\n",
       "      <td>0</td>\n",
       "      <td>0</td>\n",
       "    </tr>\n",
       "    <tr>\n",
       "      <th>3891</th>\n",
       "      <td>0</td>\n",
       "      <td>0</td>\n",
       "      <td>0</td>\n",
       "      <td>0</td>\n",
       "      <td>0</td>\n",
       "      <td>0</td>\n",
       "      <td>0</td>\n",
       "      <td>0</td>\n",
       "      <td>0</td>\n",
       "      <td>0</td>\n",
       "      <td>1</td>\n",
       "      <td>0</td>\n",
       "    </tr>\n",
       "    <tr>\n",
       "      <th>4864</th>\n",
       "      <td>0</td>\n",
       "      <td>0</td>\n",
       "      <td>0</td>\n",
       "      <td>0</td>\n",
       "      <td>0</td>\n",
       "      <td>0</td>\n",
       "      <td>0</td>\n",
       "      <td>0</td>\n",
       "      <td>1</td>\n",
       "      <td>0</td>\n",
       "      <td>0</td>\n",
       "      <td>0</td>\n",
       "    </tr>\n",
       "  </tbody>\n",
       "</table>\n",
       "</div>"
      ],
      "text/plain": [
       "Description  AIGO DarkFlash DLM21 MESH Black - Tempered Glass Micro ATX Gaming Case  \\\n",
       "invoice                                                                               \n",
       "1687                                                         0                        \n",
       "1720                                                         0                        \n",
       "2437                                                         1                        \n",
       "3891                                                         0                        \n",
       "4864                                                         0                        \n",
       "\n",
       "Description  Casing GIGABYTE AORUS AC300 ATX Gaming Case  \\\n",
       "invoice                                                    \n",
       "1687                                                   0   \n",
       "1720                                                   0   \n",
       "2437                                                   0   \n",
       "3891                                                   0   \n",
       "4864                                                   0   \n",
       "\n",
       "Description  Casing VenomRX GENJIRO Tempered Glass ATX Gaming Case  \\\n",
       "invoice                                                              \n",
       "1687                                                         0       \n",
       "1720                                                         0       \n",
       "2437                                                         0       \n",
       "3891                                                         0       \n",
       "4864                                                         0       \n",
       "\n",
       "Description  Casing VenomRX Vecna ATX 3Fan RGB Gaming Case  \\\n",
       "invoice                                                      \n",
       "1687                                                     0   \n",
       "1720                                                     1   \n",
       "2437                                                     0   \n",
       "3891                                                     0   \n",
       "4864                                                     0   \n",
       "\n",
       "Description  FAN AIGO Darkflash INFINITY 8 ARGB 5IN1 - 12CM WHITE  \\\n",
       "invoice                                                             \n",
       "1687                                                         1      \n",
       "1720                                                         0      \n",
       "2437                                                         0      \n",
       "3891                                                         0      \n",
       "4864                                                         0      \n",
       "\n",
       "Description  MSI MAG B650M MORTAR WIFI Ryzen 7000 Combo  \\\n",
       "invoice                                                   \n",
       "1687                                                  0   \n",
       "1720                                                  0   \n",
       "2437                                                  0   \n",
       "3891                                                  0   \n",
       "4864                                                  0   \n",
       "\n",
       "Description  MSI PRO B760M-P DDR4 | Motherboard Intel B760 LGA1700  \\\n",
       "invoice                                                              \n",
       "1687                                                         0       \n",
       "1720                                                         0       \n",
       "2437                                                         0       \n",
       "3891                                                         0       \n",
       "4864                                                         0       \n",
       "\n",
       "Description  Monitor Lenovo L24i-30 23.8 Inch IPS FHD 75hz  \\\n",
       "invoice                                                      \n",
       "1687                                                     0   \n",
       "1720                                                     0   \n",
       "2437                                                     0   \n",
       "3891                                                     0   \n",
       "4864                                                     0   \n",
       "\n",
       "Description  Motherboard GIGABYTE Z790 AORUS ELITE AX (Intel Z790, DDR5, LGA 1700)  \\\n",
       "invoice                                                                              \n",
       "1687                                                         0                       \n",
       "1720                                                         0                       \n",
       "2437                                                         0                       \n",
       "3891                                                         0                       \n",
       "4864                                                         1                       \n",
       "\n",
       "Description  PC RAKITAN Intel Core i5 12400 | Ram 16GB | SSD 500GB  \\\n",
       "invoice                                                              \n",
       "1687                                                         0       \n",
       "1720                                                         0       \n",
       "2437                                                         0       \n",
       "3891                                                         0       \n",
       "4864                                                         0       \n",
       "\n",
       "Description  Power Supply FSP Hydro G PRO ATX PCIe 5.0 1000W 80 Plus Gold - PSU  \\\n",
       "invoice                                                                           \n",
       "1687                                                         0                    \n",
       "1720                                                         0                    \n",
       "2437                                                         0                    \n",
       "3891                                                         1                    \n",
       "4864                                                         0                    \n",
       "\n",
       "Description  VGA ASRock AMD Radeon RX 6650 XT Challenger D 8GB OC  \n",
       "invoice                                                            \n",
       "1687                                                         0     \n",
       "1720                                                         0     \n",
       "2437                                                         0     \n",
       "3891                                                         0     \n",
       "4864                                                         0     "
      ]
     },
     "execution_count": 27,
     "metadata": {},
     "output_type": "execute_result"
    }
   ],
   "source": [
    "df_itms_togthr_nl = nl_df.groupby(['invoice','Description'])['Quantity'].sum()\n",
    "\n",
    "df_itms_togthr_nl = df_itms_togthr_nl.unstack().fillna(0)\n",
    "\n",
    "encode = lambda x : 1 if (x >= 1) else 0\n",
    "df_itms_togthr_nl = df_itms_togthr_nl.applymap(encode)\n",
    "df_itms_togthr_nl.head()"
   ]
  },
  {
   "cell_type": "code",
   "execution_count": 28,
   "metadata": {
    "ExecuteTime": {
     "end_time": "2023-06-16T11:36:00.522922300Z",
     "start_time": "2023-06-16T11:36:00.191973600Z"
    }
   },
   "outputs": [
    {
     "data": {
      "text/plain": [
       "\"df_itms_togthr_spain = spain_df.groupby(['InvoiceNo','Description'])['Quantity'].sum()\\n\\ndf_itms_togthr_spain = df_itms_togthr_spain.unstack().fillna(0)\\n\\nencode = lambda x : 1 if (x >= 1) else 0\\ndf_itms_togthr_spain = df_itms_togthr_spain.applymap(encode)\\ndf_itms_togthr_spain.head()\""
      ]
     },
     "execution_count": 28,
     "metadata": {},
     "output_type": "execute_result"
    }
   ],
   "source": [
    "\"\"\"df_itms_togthr_spain = spain_df.groupby(['InvoiceNo','Description'])['Quantity'].sum()\n",
    "\n",
    "df_itms_togthr_spain = df_itms_togthr_spain.unstack().fillna(0)\n",
    "\n",
    "encode = lambda x : 1 if (x >= 1) else 0\n",
    "df_itms_togthr_spain = df_itms_togthr_spain.applymap(encode)\n",
    "df_itms_togthr_spain.head()\"\"\""
   ]
  },
  {
   "cell_type": "code",
   "execution_count": 29,
   "metadata": {
    "ExecuteTime": {
     "end_time": "2023-06-16T11:36:00.542919500Z",
     "start_time": "2023-06-16T11:36:00.206968400Z"
    }
   },
   "outputs": [
    {
     "data": {
      "text/plain": [
       "\"df_itms_togthr_france = france_df.groupby(['InvoiceNo','Description'])['Quantity'].sum()\\n\\ndf_itms_togthr_france = df_itms_togthr_france.unstack().fillna(0)\\n\\nencode = lambda x : 1 if (x >= 1) else 0\\ndf_itms_togthr_france = df_itms_togthr_france.applymap(encode)\\ndf_itms_togthr_france.head()\""
      ]
     },
     "execution_count": 29,
     "metadata": {},
     "output_type": "execute_result"
    }
   ],
   "source": [
    "'''df_itms_togthr_france = france_df.groupby(['InvoiceNo','Description'])['Quantity'].sum()\n",
    "\n",
    "df_itms_togthr_france = df_itms_togthr_france.unstack().fillna(0)\n",
    "\n",
    "encode = lambda x : 1 if (x >= 1) else 0\n",
    "df_itms_togthr_france = df_itms_togthr_france.applymap(encode)\n",
    "df_itms_togthr_france.head()'''"
   ]
  },
  {
   "cell_type": "markdown",
   "metadata": {},
   "source": [
    "Now, the data is ready to be used to build the association rule model."
   ]
  },
  {
   "cell_type": "markdown",
   "metadata": {},
   "source": [
    "## 3. System Modeling "
   ]
  },
  {
   "cell_type": "markdown",
   "metadata": {},
   "source": [
    "To build the association rule model and answer the questions related to product bundling recommendation, we will employ the Apriori Algorithm, which is a popular technique in association rule mining. The model will utilize a dataset containing retail transactional data.\n",
    "\n",
    "The first step is to determine an appropriate minimum support value for our model. This value influences the threshold for item frequency in the dataset. For larger datasets, a smaller support value is chosen to capture more item associations, while for smaller datasets, a slightly higher support value is selected to avoid noise and ensure reliable results.\n",
    "\n",
    "In this project, we will consider the size of the dataset to determine the minimum support value, ensuring it is suitable for product bundling recommendation. By carefully evaluating the dataset, we can strike a balance between capturing significant associations and maintaining a reasonable level of computational complexity.\n",
    "\n",
    "Additionally, we will set the confidence level to 60%. This parameter helps determine the strength of the association between items. With a confidence level of 60%, we will focus on finding associations where there is a high likelihood (at least 60%) that one item will be purchased if the other is already in the customer's basket.\n",
    "\n",
    "After building the association rule model with the selected support and confidence values, we can examine the results to address the questions at hand. We will identify the items that are frequently bought together, allowing us to suggest these bundles to customers. Moreover, by analyzing the dataset on a country-specific basis, we can determine which items are commonly purchased together in different countries. This knowledge can inform targeted product bundling recommendations for customers based on their geographical location."
   ]
  },
  {
   "cell_type": "markdown",
   "metadata": {},
   "source": [
    "### 3.1 All Countries Data"
   ]
  },
  {
   "cell_type": "code",
   "execution_count": 30,
   "metadata": {
    "ExecuteTime": {
     "end_time": "2023-06-16T11:36:00.710029600Z",
     "start_time": "2023-06-16T11:36:00.222974300Z"
    },
    "scrolled": true
   },
   "outputs": [
    {
     "name": "stdout",
     "output_type": "stream",
     "text": [
      "\r",
      "Processing 132 combinations | Sampling itemset size 2\n"
     ]
    },
    {
     "name": "stderr",
     "output_type": "stream",
     "text": [
      "C:\\ANACONDA\\envs\\pythonProject\\lib\\site-packages\\mlxtend\\frequent_patterns\\fpcommon.py:110: DeprecationWarning: DataFrames with non-bool types result in worse computationalperformance and their support might be discontinued in the future.Please use a DataFrame with bool type\n",
      "  warnings.warn(\n"
     ]
    },
    {
     "data": {
      "text/html": [
       "<div>\n",
       "<style scoped>\n",
       "    .dataframe tbody tr th:only-of-type {\n",
       "        vertical-align: middle;\n",
       "    }\n",
       "\n",
       "    .dataframe tbody tr th {\n",
       "        vertical-align: top;\n",
       "    }\n",
       "\n",
       "    .dataframe thead th {\n",
       "        text-align: right;\n",
       "    }\n",
       "</style>\n",
       "<table border=\"1\" class=\"dataframe\">\n",
       "  <thead>\n",
       "    <tr style=\"text-align: right;\">\n",
       "      <th></th>\n",
       "      <th>support</th>\n",
       "      <th>itemsets</th>\n",
       "    </tr>\n",
       "  </thead>\n",
       "  <tbody>\n",
       "    <tr>\n",
       "      <th>0</th>\n",
       "      <td>0.083333</td>\n",
       "      <td>(AIGO DarkFlash DLM21 MESH Black - Tempered Gl...</td>\n",
       "    </tr>\n",
       "    <tr>\n",
       "      <th>1</th>\n",
       "      <td>0.083333</td>\n",
       "      <td>(Casing GIGABYTE AORUS AC300 ATX Gaming Case)</td>\n",
       "    </tr>\n",
       "    <tr>\n",
       "      <th>2</th>\n",
       "      <td>0.083333</td>\n",
       "      <td>(Casing VenomRX GENJIRO Tempered Glass ATX Gam...</td>\n",
       "    </tr>\n",
       "    <tr>\n",
       "      <th>3</th>\n",
       "      <td>0.083333</td>\n",
       "      <td>(Casing VenomRX Vecna ATX 3Fan RGB Gaming Case)</td>\n",
       "    </tr>\n",
       "    <tr>\n",
       "      <th>4</th>\n",
       "      <td>0.083333</td>\n",
       "      <td>(FAN AIGO Darkflash INFINITY 8 ARGB 5IN1 - 12C...</td>\n",
       "    </tr>\n",
       "  </tbody>\n",
       "</table>\n",
       "</div>"
      ],
      "text/plain": [
       "    support                                           itemsets\n",
       "0  0.083333  (AIGO DarkFlash DLM21 MESH Black - Tempered Gl...\n",
       "1  0.083333      (Casing GIGABYTE AORUS AC300 ATX Gaming Case)\n",
       "2  0.083333  (Casing VenomRX GENJIRO Tempered Glass ATX Gam...\n",
       "3  0.083333    (Casing VenomRX Vecna ATX 3Fan RGB Gaming Case)\n",
       "4  0.083333  (FAN AIGO Darkflash INFINITY 8 ARGB 5IN1 - 12C..."
      ]
     },
     "execution_count": 30,
     "metadata": {},
     "output_type": "execute_result"
    }
   ],
   "source": [
    "# Build the Apriori model\n",
    "rep_items = apriori(df_itms_togthr, min_support = 0.02, use_colnames = True, verbose = 1)\n",
    "rep_items.head()"
   ]
  },
  {
   "cell_type": "code",
   "execution_count": 38,
   "metadata": {
    "ExecuteTime": {
     "end_time": "2023-06-16T12:17:31.112296800Z",
     "start_time": "2023-06-16T12:17:31.097754600Z"
    }
   },
   "outputs": [
    {
     "name": "stdout",
     "output_type": "stream",
     "text": [
      "     support                                           itemsets\n",
      "0   0.083333  (AIGO DarkFlash DLM21 MESH Black - Tempered Gl...\n",
      "1   0.083333      (Casing GIGABYTE AORUS AC300 ATX Gaming Case)\n",
      "2   0.083333  (Casing VenomRX GENJIRO Tempered Glass ATX Gam...\n",
      "3   0.083333    (Casing VenomRX Vecna ATX 3Fan RGB Gaming Case)\n",
      "4   0.083333  (FAN AIGO Darkflash INFINITY 8 ARGB 5IN1 - 12C...\n",
      "5   0.083333       (MSI MAG B650M MORTAR WIFI Ryzen 7000 Combo)\n",
      "6   0.083333  (MSI PRO B760M-P DDR4 | Motherboard Intel B760...\n",
      "7   0.083333    (Monitor Lenovo L24i-30 23.8 Inch IPS FHD 75hz)\n",
      "8   0.083333  (Motherboard GIGABYTE Z790 AORUS ELITE AX (Int...\n",
      "9   0.083333  (PC RAKITAN Intel Core i5 12400 | Ram 16GB | S...\n",
      "10  0.083333  (Power Supply FSP Hydro G PRO ATX PCIe 5.0 100...\n",
      "11  0.083333  (VGA ASRock AMD Radeon RX 6650 XT Challenger D...\n"
     ]
    }
   ],
   "source": [
    "print(rep_items)\n"
   ]
  },
  {
   "cell_type": "code",
   "execution_count": 39,
   "metadata": {
    "ExecuteTime": {
     "end_time": "2023-06-16T12:18:06.650019300Z",
     "start_time": "2023-06-16T12:18:06.619024700Z"
    }
   },
   "outputs": [],
   "source": [
    "# Save rep_items DataFrame to CSV\n",
    "rep_items.to_csv('rep_items.csv', index=False)\n",
    "\n",
    "# Save rules DataFrame to CSV\n",
    "rules.to_csv('rules.csv', index=False)\n"
   ]
  },
  {
   "cell_type": "code",
   "execution_count": 33,
   "metadata": {
    "ExecuteTime": {
     "start_time": "2023-06-16T11:36:00.286971400Z"
    }
   },
   "outputs": [
    {
     "data": {
      "image/png": "[encoded data removed]",
      "text/plain": [
       "<Figure size 640x480 with 1 Axes>"
      ]
     },
     "metadata": {},
     "output_type": "display_data"
    }
   ],
   "source": [
    "# Show confidence distribution\n",
    "plt.hist(rules['confidence'])\n",
    "plt.show()"
   ]
  },
  {
   "cell_type": "code",
   "execution_count": 34,
   "metadata": {
    "ExecuteTime": {
     "start_time": "2023-06-16T11:36:00.289971400Z"
    }
   },
   "outputs": [
    {
     "data": {
      "text/html": [
       "<div>\n",
       "<style scoped>\n",
       "    .dataframe tbody tr th:only-of-type {\n",
       "        vertical-align: middle;\n",
       "    }\n",
       "\n",
       "    .dataframe tbody tr th {\n",
       "        vertical-align: top;\n",
       "    }\n",
       "\n",
       "    .dataframe thead th {\n",
       "        text-align: right;\n",
       "    }\n",
       "</style>\n",
       "<table border=\"1\" class=\"dataframe\">\n",
       "  <thead>\n",
       "    <tr style=\"text-align: right;\">\n",
       "      <th></th>\n",
       "      <th>antecedents</th>\n",
       "      <th>consequents</th>\n",
       "    </tr>\n",
       "  </thead>\n",
       "  <tbody>\n",
       "  </tbody>\n",
       "</table>\n",
       "</div>"
      ],
      "text/plain": [
       "Empty DataFrame\n",
       "Columns: [antecedents, consequents]\n",
       "Index: []"
      ]
     },
     "execution_count": 34,
     "metadata": {},
     "output_type": "execute_result"
    }
   ],
   "source": [
    "# Show the rules that have confidance > 0.75\n",
    "high_confidance = rules[rules['confidence'] > 0.75]\n",
    "high_confidance [['antecedents', 'consequents']]"
   ]
  },
  {
   "cell_type": "markdown",
   "metadata": {},
   "source": [
    "### 3.2 Netherlands, Spain, France Countries Data"
   ]
  },
  {
   "cell_type": "code",
   "execution_count": 35,
   "metadata": {
    "ExecuteTime": {
     "start_time": "2023-06-16T11:36:00.291971400Z"
    },
    "scrolled": true
   },
   "outputs": [
    {
     "name": "stdout",
     "output_type": "stream",
     "text": [
      "\n"
     ]
    },
    {
     "name": "stderr",
     "output_type": "stream",
     "text": [
      "C:\\ANACONDA\\envs\\pythonProject\\lib\\site-packages\\mlxtend\\frequent_patterns\\fpcommon.py:110: DeprecationWarning: DataFrames with non-bool types result in worse computationalperformance and their support might be discontinued in the future.Please use a DataFrame with bool type\n",
      "  warnings.warn(\n"
     ]
    },
    {
     "data": {
      "text/html": [
       "<div>\n",
       "<style scoped>\n",
       "    .dataframe tbody tr th:only-of-type {\n",
       "        vertical-align: middle;\n",
       "    }\n",
       "\n",
       "    .dataframe tbody tr th {\n",
       "        vertical-align: top;\n",
       "    }\n",
       "\n",
       "    .dataframe thead th {\n",
       "        text-align: right;\n",
       "    }\n",
       "</style>\n",
       "<table border=\"1\" class=\"dataframe\">\n",
       "  <thead>\n",
       "    <tr style=\"text-align: right;\">\n",
       "      <th></th>\n",
       "      <th>support</th>\n",
       "      <th>itemsets</th>\n",
       "    </tr>\n",
       "  </thead>\n",
       "  <tbody>\n",
       "  </tbody>\n",
       "</table>\n",
       "</div>"
      ],
      "text/plain": [
       "Empty DataFrame\n",
       "Columns: [support, itemsets]\n",
       "Index: []"
      ]
     },
     "execution_count": 35,
     "metadata": {},
     "output_type": "execute_result"
    }
   ],
   "source": [
    "# Build the Apriori model\n",
    "rep_items_nl = apriori(df_itms_togthr_nl, min_support = 0.1, use_colnames = True, verbose = 1)\n",
    "rep_items_nl.head()"
   ]
  },
  {
   "cell_type": "code",
   "execution_count": 36,
   "metadata": {
    "ExecuteTime": {
     "start_time": "2023-06-16T11:36:00.293971200Z"
    }
   },
   "outputs": [
    {
     "ename": "ValueError",
     "evalue": "The input DataFrame `df` containing the frequent itemsets is empty.",
     "output_type": "error",
     "traceback": [
      "\u001B[1;31m---------------------------------------------------------------------------\u001B[0m",
      "\u001B[1;31mValueError\u001B[0m                                Traceback (most recent call last)",
      "Input \u001B[1;32mIn [36]\u001B[0m, in \u001B[0;36m<cell line: 2>\u001B[1;34m()\u001B[0m\n\u001B[0;32m      1\u001B[0m \u001B[38;5;66;03m# Generate the association rules dataframe\u001B[39;00m\n\u001B[1;32m----> 2\u001B[0m rules_nl \u001B[38;5;241m=\u001B[39m \u001B[43massociation_rules\u001B[49m\u001B[43m(\u001B[49m\u001B[43mrep_items_nl\u001B[49m\u001B[43m,\u001B[49m\u001B[43m \u001B[49m\u001B[43mmetric\u001B[49m\u001B[43m \u001B[49m\u001B[38;5;241;43m=\u001B[39;49m\u001B[43m \u001B[49m\u001B[38;5;124;43m\"\u001B[39;49m\u001B[38;5;124;43mconfidence\u001B[39;49m\u001B[38;5;124;43m\"\u001B[39;49m\u001B[43m,\u001B[49m\u001B[43m \u001B[49m\u001B[43mmin_threshold\u001B[49m\u001B[43m \u001B[49m\u001B[38;5;241;43m=\u001B[39;49m\u001B[43m \u001B[49m\u001B[38;5;241;43m0.6\u001B[39;49m\u001B[43m)\u001B[49m\n\u001B[0;32m      3\u001B[0m rules_nl\u001B[38;5;241m.\u001B[39mhead()\n",
      "File \u001B[1;32mC:\\ANACONDA\\envs\\pythonProject\\lib\\site-packages\\mlxtend\\frequent_patterns\\association_rules.py:83\u001B[0m, in \u001B[0;36massociation_rules\u001B[1;34m(df, metric, min_threshold, support_only)\u001B[0m\n\u001B[0;32m     18\u001B[0m \u001B[38;5;124;03m\"\"\"Generates a DataFrame of association rules including the\u001B[39;00m\n\u001B[0;32m     19\u001B[0m \u001B[38;5;124;03mmetrics 'score', 'confidence', and 'lift'\u001B[39;00m\n\u001B[0;32m     20\u001B[0m \n\u001B[1;32m   (...)\u001B[0m\n\u001B[0;32m     80\u001B[0m \n\u001B[0;32m     81\u001B[0m \u001B[38;5;124;03m\"\"\"\u001B[39;00m\n\u001B[0;32m     82\u001B[0m \u001B[38;5;28;01mif\u001B[39;00m \u001B[38;5;129;01mnot\u001B[39;00m df\u001B[38;5;241m.\u001B[39mshape[\u001B[38;5;241m0\u001B[39m]:\n\u001B[1;32m---> 83\u001B[0m     \u001B[38;5;28;01mraise\u001B[39;00m \u001B[38;5;167;01mValueError\u001B[39;00m(\n\u001B[0;32m     84\u001B[0m         \u001B[38;5;124m\"\u001B[39m\u001B[38;5;124mThe input DataFrame `df` containing \u001B[39m\u001B[38;5;124m\"\u001B[39m \u001B[38;5;124m\"\u001B[39m\u001B[38;5;124mthe frequent itemsets is empty.\u001B[39m\u001B[38;5;124m\"\u001B[39m\n\u001B[0;32m     85\u001B[0m     )\n\u001B[0;32m     87\u001B[0m \u001B[38;5;66;03m# check for mandatory columns\u001B[39;00m\n\u001B[0;32m     88\u001B[0m \u001B[38;5;28;01mif\u001B[39;00m \u001B[38;5;129;01mnot\u001B[39;00m \u001B[38;5;28mall\u001B[39m(col \u001B[38;5;129;01min\u001B[39;00m df\u001B[38;5;241m.\u001B[39mcolumns \u001B[38;5;28;01mfor\u001B[39;00m col \u001B[38;5;129;01min\u001B[39;00m [\u001B[38;5;124m\"\u001B[39m\u001B[38;5;124msupport\u001B[39m\u001B[38;5;124m\"\u001B[39m, \u001B[38;5;124m\"\u001B[39m\u001B[38;5;124mitemsets\u001B[39m\u001B[38;5;124m\"\u001B[39m]):\n",
      "\u001B[1;31mValueError\u001B[0m: The input DataFrame `df` containing the frequent itemsets is empty."
     ]
    }
   ],
   "source": [
    "# Generate the association rules dataframe\n",
    "rules_nl = association_rules(rep_items_nl, metric = \"confidence\", min_threshold = 0.6)\n",
    "rules_nl.head()"
   ]
  },
  {
   "cell_type": "code",
   "execution_count": null,
   "metadata": {
    "ExecuteTime": {
     "start_time": "2023-06-16T11:36:00.296970900Z"
    }
   },
   "outputs": [],
   "source": [
    "# The number of rules\n",
    "rules_nl.shape[0]"
   ]
  },
  {
   "cell_type": "code",
   "execution_count": null,
   "metadata": {
    "ExecuteTime": {
     "start_time": "2023-06-16T11:36:00.299972400Z"
    }
   },
   "outputs": [],
   "source": [
    "high_confidance_nl = rules_nl[rules_nl['confidence'] > 0.75]\n",
    "high_confidance_nl [['antecedents', 'consequents']]"
   ]
  },
  {
   "cell_type": "code",
   "execution_count": null,
   "metadata": {
    "ExecuteTime": {
     "start_time": "2023-06-16T11:36:00.301971200Z"
    }
   },
   "outputs": [],
   "source": [
    "# Build the Apriori model\n",
    "rep_items_spain = apriori(df_itms_togthr_spain, min_support = 0.1, use_colnames = True, verbose = 1)\n",
    "rep_items_spain.head()"
   ]
  },
  {
   "cell_type": "code",
   "execution_count": null,
   "metadata": {
    "ExecuteTime": {
     "start_time": "2023-06-16T11:36:00.304971300Z"
    }
   },
   "outputs": [],
   "source": [
    "# Generate the association rules dataframe\n",
    "rules_spain = association_rules(rep_items_spain, metric = \"confidence\", min_threshold = 0.6)\n",
    "rules_spain"
   ]
  },
  {
   "cell_type": "code",
   "execution_count": null,
   "metadata": {
    "ExecuteTime": {
     "start_time": "2023-06-16T11:36:00.306972500Z"
    }
   },
   "outputs": [],
   "source": [
    "# The number of rules\n",
    "rules_spain.shape[0]"
   ]
  },
  {
   "cell_type": "code",
   "execution_count": null,
   "metadata": {
    "ExecuteTime": {
     "start_time": "2023-06-16T11:36:00.308972800Z"
    }
   },
   "outputs": [],
   "source": [
    "high_confidance_spain = rules_spain[rules_spain['confidence'] > 0.75]\n",
    "high_confidance_spain [['antecedents', 'consequents']]"
   ]
  },
  {
   "cell_type": "code",
   "execution_count": null,
   "metadata": {
    "ExecuteTime": {
     "start_time": "2023-06-16T11:36:00.310969Z"
    }
   },
   "outputs": [],
   "source": [
    "# Build the Apriori model\n",
    "rep_items_france = apriori(df_itms_togthr_france, min_support = 0.05, use_colnames = True, verbose = 1)\n",
    "rep_items_france.head()"
   ]
  },
  {
   "cell_type": "code",
   "execution_count": null,
   "metadata": {
    "ExecuteTime": {
     "start_time": "2023-06-16T11:36:00.311968500Z"
    }
   },
   "outputs": [],
   "source": [
    "# Generate the association rules dataframe\n",
    "rules_france = association_rules(rep_items_france, metric = \"confidence\", min_threshold = 0.6)\n",
    "rules_france"
   ]
  },
  {
   "cell_type": "code",
   "execution_count": null,
   "metadata": {
    "ExecuteTime": {
     "start_time": "2023-06-16T11:36:00.313970800Z"
    }
   },
   "outputs": [],
   "source": [
    "# The number of rules\n",
    "rules_france.shape[0]"
   ]
  },
  {
   "cell_type": "code",
   "execution_count": null,
   "metadata": {
    "ExecuteTime": {
     "start_time": "2023-06-16T11:36:00.314971300Z"
    }
   },
   "outputs": [],
   "source": [
    "high_confidance_france = rules_france[rules_france['confidence'] > 0.75]\n",
    "high_confidance_france [['antecedents', 'consequents']]"
   ]
  },
  {
   "cell_type": "markdown",
   "metadata": {},
   "source": [
    "### 3.3 Results Discussion\n",
    "\n",
    "The results of association analysis show which item is frequently purchased with other items. The result of association analysis using the whole dataset is differnt than the result of association analysis when using a dataset of a spacific country. "
   ]
  },
  {
   "cell_type": "markdown",
   "metadata": {},
   "source": [
    "## 4. Summary Analysis"
   ]
  },
  {
   "cell_type": "markdown",
   "metadata": {},
   "source": [
    "After applying the Apriori algorithm to the retail transactional dataset, we obtained valuable rules regarding the frequent purchase associations between items. These rules provide insights into the products that are often bought together, which can be highly beneficial for product bundling recommendation strategies in e-commerce websites.\n",
    "\n",
    "By analyzing the entire dataset, we uncovered associations between items that are relevant across different countries and customer segments. These associations reflect broader patterns of customer preferences and purchasing behavior, enabling us to generate recommendations for item bundling that have a broad appeal and potential for driving sales.\n",
    "\n",
    "However, it's important to note that the results of association analysis may differ when analyzing datasets specific to individual countries. Cultural, geographical, and demographic factors can significantly influence customer preferences and purchasing habits. Thus, by conducting association analysis on a country-specific basis, we can identify associations that are unique to each region, providing targeted recommendations for item bundling in respective markets.\n",
    "\n",
    "The rules derived from both the analysis of the whole dataset and the analysis of country-specific datasets are highly valuable for item recommendations on e-commerce websites. By leveraging these rules, businesses can offer customers tailored product bundles based on their preferences and purchasing behavior. This personalized approach enhances the customer experience, increases the likelihood of cross-selling, and ultimately drives revenue and customer satisfaction.\n",
    "\n",
    "In summary, the results of the association analysis using the Apriori algorithm provide valuable insights for product bundling recommendation in e-commerce. By considering both the associations from the whole dataset and those specific to individual countries, businesses can offer personalized recommendations that cater to diverse customer segments, resulting in improved customer satisfaction and increased sales."
   ]
  },
  {
   "cell_type": "markdown",
   "metadata": {},
   "source": [
    "## 5. Future Develepoment"
   ]
  },
  {
   "cell_type": "markdown",
   "metadata": {},
   "source": [
    "Based on the valuable insights gained from the association analysis using the Apriori algorithm, businesses can leverage these findings to drive future development in their product bundling recommendation strategies. Here are some potential areas for development:\n",
    "\n",
    "1. Personalized Recommendations: The analysis of the whole dataset and country-specific datasets allows businesses to offer personalized recommendations to customers. Going forward, businesses can further refine their recommendation engines by incorporating additional customer data, such as browsing history, past purchases, and demographic information. This increased personalization will enhance the relevance and effectiveness of product bundling recommendations, leading to higher customer satisfaction and conversion rates.\n",
    "\n",
    "2. Dynamic Bundling: The association rules derived from the analysis can be used to create static product bundles that are commonly purchased together. However, businesses can explore dynamic bundling strategies by continuously analyzing real-time transactional data. By identifying emerging trends and adjusting product bundles accordingly, businesses can stay responsive to evolving customer preferences and market dynamics. Dynamic bundling can lead to increased sales and customer engagement by offering timely and relevant product recommendations.\n",
    "\n",
    "3. Cross-Selling Opportunities: The association rules reveal items that are frequently purchased together, presenting cross-selling opportunities. Businesses can capitalize on these associations by strategically promoting complementary products during the customer journey. For example, when a customer adds a specific item to their cart, the system can suggest related products that enhance the overall experience or offer cost savings through bundled offers. This proactive approach to cross-selling can boost average order value and customer loyalty.\n",
    "\n",
    "4. Localization: The analysis of country-specific datasets provides insights into unique associations and preferences specific to different regions. Future development can involve tailoring product bundling recommendations to local markets by considering cultural nuances, regional preferences, and purchasing behaviors. Localization efforts can include adjusting product bundles, promotional offers, and marketing campaigns to resonate with customers in each country, resulting in more effective and targeted recommendations.\n",
    "\n",
    "5. Continuous Analysis and Refinement: The association analysis is an iterative process that should be regularly updated to capture evolving customer preferences and market dynamics. By continuously analyzing transactional data, businesses can identify new item associations, monitor changes in purchasing patterns, and refine their product bundling strategies accordingly. This continuous improvement process ensures that businesses stay responsive to customer needs and maintain a competitive edge in the e-commerce landscape.\n",
    "\n",
    "In conclusion, the insights gained from the association analysis provide a solid foundation for future development in product bundling recommendation strategies. By focusing on personalization, dynamic bundling, cross-selling opportunities, localization, and continuous analysis, businesses can enhance the effectiveness of their recommendations, drive sales, and deliver exceptional customer experiences in the evolving e-commerce landscape."
   ]
  }
 ],
 "metadata": {
  "kernelspec": {
   "display_name": "Python 3 (ipykernel)",
   "language": "python",
   "name": "python3"
  },
  "language_info": {
   "codemirror_mode": {
    "name": "ipython",
    "version": 3
   },
   "file_extension": ".py",
   "mimetype": "text/x-python",
   "name": "python",
   "nbconvert_exporter": "python",
   "pygments_lexer": "ipython3",
   "version": "3.10.0"
  }
 },
 "nbformat": 4,
 "nbformat_minor": 2
}
